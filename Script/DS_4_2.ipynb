{
  "nbformat": 4,
  "nbformat_minor": 0,
  "metadata": {
    "colab": {
      "provenance": [],
      "toc_visible": true
    },
    "kernelspec": {
      "name": "python3",
      "display_name": "Python 3"
    }
  },
  "cells": [
    {
      "cell_type": "code",
      "metadata": {
        "colab": {
          "base_uri": "https://localhost:8080/"
        },
        "id": "bbKguNzpnlGi",
        "outputId": "11455ec7-d71c-47ea-e655-423c5c9d1064"
      },
      "source": [
        "from google.colab import drive\n",
        "drive.mount('/content/drive', force_remount=True)"
      ],
      "execution_count": null,
      "outputs": [
        {
          "output_type": "stream",
          "name": "stdout",
          "text": [
            "Mounted at /content/drive\n"
          ]
        }
      ]
    },
    {
      "cell_type": "code",
      "metadata": {
        "id": "OCwtLFYHwHCJ"
      },
      "source": [],
      "execution_count": null,
      "outputs": []
    },
    {
      "cell_type": "code",
      "metadata": {
        "colab": {
          "base_uri": "https://localhost:8080/"
        },
        "id": "5c5Uhkc_ntNv",
        "outputId": "d7a9e371-c74e-4b2d-8723-1edfb8e5490a"
      },
      "source": [
        "import os\n",
        "os.chdir('/content/drive/MyDrive/Data_Science/')\n",
        "!pwd"
      ],
      "execution_count": null,
      "outputs": [
        {
          "output_type": "stream",
          "name": "stdout",
          "text": [
            "/content/drive/MyDrive/Data_Science\n"
          ]
        }
      ]
    },
    {
      "cell_type": "code",
      "metadata": {
        "colab": {
          "base_uri": "https://localhost:8080/"
        },
        "id": "Joy39KuknvsQ",
        "outputId": "45618e9d-81d3-4b7a-a73c-efdf156eb6e4"
      },
      "source": [
        "import pandas as pd\n",
        "df = pd.read_csv(\"NO2.csv\")\n",
        "print(df)"
      ],
      "execution_count": null,
      "outputs": [
        {
          "output_type": "stream",
          "name": "stdout",
          "text": [
            "          Date       NO2  Year     City\n",
            "0    25-Apr-20  0.000074  2020  Bergamo\n",
            "1     5-Apr-20  0.000074  2020  Bergamo\n",
            "2    25-Apr-20  0.000075  2020  Bergamo\n",
            "3    11-Apr-20  0.000076  2020  Bergamo\n",
            "4     4-Apr-20  0.000077  2020  Bergamo\n",
            "..         ...       ...   ...      ...\n",
            "364  19-Feb-19  0.000629  2019    Wuhan\n",
            "365  21-Feb-19  0.000630  2019    Wuhan\n",
            "366   5-Mar-19  0.000711  2019    Wuhan\n",
            "367  24-Feb-19  0.000766  2019    Wuhan\n",
            "368  19-Feb-19  0.000786  2019    Wuhan\n",
            "\n",
            "[369 rows x 4 columns]\n"
          ]
        }
      ]
    },
    {
      "cell_type": "markdown",
      "metadata": {
        "id": "IUue0aX3n8-F"
      },
      "source": [
        "# 1. Normality Tests,\n",
        "## Histogram (rough estimate)\n",
        "## Quantile-Quantile Plot visual\n",
        "## Shapiro-Wilk Test use statics\n",
        "\n",
        "```"
      ]
    },
    {
      "cell_type": "markdown",
      "metadata": {
        "id": "Pw6-iab5ojU_"
      },
      "source": [
        "## 1. Histogram (rough estimate)"
      ]
    },
    {
      "cell_type": "code",
      "metadata": {
        "colab": {
          "base_uri": "https://localhost:8080/",
          "height": 430
        },
        "id": "cTHvKX_snPlY",
        "outputId": "6b16808e-b190-4bfd-dbc8-5b5f4d3aa1d2"
      },
      "source": [
        "# histogram plot\n",
        "from numpy.random import seed\n",
        "from numpy.random import randn\n",
        "from matplotlib import pyplot\n",
        "# seed the random number generator\n",
        "#seed(1)\n",
        "# generate univariate observations\n",
        "#data = 66 * randn(100) # random data\n",
        "data = df['NO2']\n",
        "alpha = 0.5\n",
        "# histogram plot\n",
        "pyplot.hist(data, bins=40)\n",
        "pyplot.show()"
      ],
      "execution_count": null,
      "outputs": [
        {
          "output_type": "display_data",
          "data": {
            "text/plain": [
              "<Figure size 640x480 with 1 Axes>"
            ],
            "image/png": "[encoded data removed]"
          },
          "metadata": {}
        }
      ]
    },
    {
      "cell_type": "markdown",
      "metadata": {
        "id": "LzT-JYNJoqak"
      },
      "source": [
        "## 2. QQ Plot Normality test"
      ]
    },
    {
      "cell_type": "code",
      "metadata": {
        "colab": {
          "base_uri": "https://localhost:8080/",
          "height": 211
        },
        "id": "I6PdYD4fnpfv",
        "outputId": "9c161a98-b9b2-4aa0-de4a-782d89632698"
      },
      "source": [
        "# QQ Plot Normality test\n",
        "from statsmodels.graphics.gofplots import qqplot\n",
        "from matplotlib import pyplot\n",
        "#!pip install qqplot\n",
        "# generate univariate observations\n",
        "data = pd.read_csv(\"NO2.csv\")\n",
        "# q-q plot\n",
        "qqplot(data ['NO2'], line='s')\n",
        "pyplot.show()"
      ],
      "execution_count": null,
      "outputs": [
        {
          "output_type": "error",
          "ename": "NameError",
          "evalue": "name 'pd' is not defined",
          "traceback": [
            "\u001b[0;31m---------------------------------------------------------------------------\u001b[0m",
            "\u001b[0;31mNameError\u001b[0m                                 Traceback (most recent call last)",
            "\u001b[0;32m<ipython-input-1-476b607ed68d>\u001b[0m in \u001b[0;36m<cell line: 0>\u001b[0;34m()\u001b[0m\n\u001b[1;32m      4\u001b[0m \u001b[0;31m#!pip install qqplot\u001b[0m\u001b[0;34m\u001b[0m\u001b[0;34m\u001b[0m\u001b[0m\n\u001b[1;32m      5\u001b[0m \u001b[0;31m# generate univariate observations\u001b[0m\u001b[0;34m\u001b[0m\u001b[0;34m\u001b[0m\u001b[0m\n\u001b[0;32m----> 6\u001b[0;31m \u001b[0mdata\u001b[0m \u001b[0;34m=\u001b[0m \u001b[0mpd\u001b[0m\u001b[0;34m.\u001b[0m\u001b[0mread_csv\u001b[0m\u001b[0;34m(\u001b[0m\u001b[0;34m\"NO2.csv\"\u001b[0m\u001b[0;34m)\u001b[0m\u001b[0;34m\u001b[0m\u001b[0;34m\u001b[0m\u001b[0m\n\u001b[0m\u001b[1;32m      7\u001b[0m \u001b[0;31m# q-q plot\u001b[0m\u001b[0;34m\u001b[0m\u001b[0;34m\u001b[0m\u001b[0m\n\u001b[1;32m      8\u001b[0m \u001b[0mqqplot\u001b[0m\u001b[0;34m(\u001b[0m\u001b[0mdata\u001b[0m \u001b[0;34m[\u001b[0m\u001b[0;34m'NO2'\u001b[0m\u001b[0;34m]\u001b[0m\u001b[0;34m,\u001b[0m \u001b[0mline\u001b[0m\u001b[0;34m=\u001b[0m\u001b[0;34m's'\u001b[0m\u001b[0;34m)\u001b[0m\u001b[0;34m\u001b[0m\u001b[0;34m\u001b[0m\u001b[0m\n",
            "\u001b[0;31mNameError\u001b[0m: name 'pd' is not defined"
          ]
        }
      ]
    },
    {
      "cell_type": "markdown",
      "metadata": {
        "id": "zexO49floBsD"
      },
      "source": [
        "\n",
        "## 3. Shapiro-Wilk Test use statistic\n",
        "##Tests whether a data sample has a Gaussian distribution.\n",
        "\n",
        "\n",
        "Assumptions\n",
        "\n",
        "Observations in each sample are independent and identically distributed (iid).\n",
        "Interpretation\n",
        "\n",
        "H0: the sample has a Gaussian distribution.\n",
        "H1: the sample does not have a Gaussian distribution.\n",
        "\n",
        "\n",
        "---\n",
        "\n",
        "\n",
        "\n",
        "\n"
      ]
    },
    {
      "cell_type": "code",
      "metadata": {
        "colab": {
          "base_uri": "https://localhost:8080/"
        },
        "id": "29yimUKin9vm",
        "outputId": "5caefe65-a7fb-4fa0-8ed2-46d3323cba36"
      },
      "source": [
        "from scipy.stats import shapiro\n",
        "data = [0.873, 2.817, 0.121, -0.945, -0.055, -1.436, 0.360, -1.478, -1.637, -1.869]\n",
        "stat, p = shapiro(data)\n",
        "print(f'stat={stat}, p={p}')\n",
        "if p > 0.05:\n",
        "\tprint('>Probably normally distributed')\n",
        "else:\n",
        "\tprint('>Probably not normally distributed')\n",
        " #Check for NO2 data\n",
        "print(f\"\\nCheck if NO2 is normally distributed.\")\n",
        "\n",
        "data = df[\"NO2\"]\n",
        "stat, p = shapiro(data)\n",
        "print(f'stat={stat}, p={p}')\n",
        "if p > 0.05:\n",
        "\tprint('>Probably normally distributed')\n",
        "else:\n",
        "\tprint('>Probably not normally distributed')"
      ],
      "execution_count": null,
      "outputs": [
        {
          "output_type": "stream",
          "name": "stdout",
          "text": [
            "stat=0.8951008586832423, p=0.19340863556472415\n",
            ">Probably normally distributed\n",
            "\n",
            "Check if NO2 is normally distributed.\n",
            "stat=0.7034934721182706, p=5.094048777699667e-25\n",
            ">Probably not normally distributed\n"
          ]
        }
      ]
    },
    {
      "cell_type": "markdown",
      "metadata": {
        "id": "thLbJXRawAgK"
      },
      "source": [
        "# 2. Correlation Tests"
      ]
    },
    {
      "cell_type": "markdown",
      "metadata": {
        "id": "buL4syp8pgm_"
      },
      "source": [
        "\n",
        "## 1. Pearson’s Correlation Coefficient\n",
        "### Interpretation\n",
        "Assumptions\n",
        "\n",
        ">  Observations in each sample are independent and identically distributed (iid)\n",
        "\n",
        "> Observations in each sample are normally distributed.\n",
        "\n",
        "> Observations in each sample have the same variance.\n",
        "\n",
        "> H0: the two samples are independent.\n",
        "\n",
        "> H1: there is a dependency between the samples."
      ]
    },
    {
      "cell_type": "code",
      "metadata": {
        "colab": {
          "base_uri": "https://localhost:8080/"
        },
        "id": "0gdVyzxRqZUw",
        "outputId": "3e38816c-9134-4082-c385-7ca21638dc8b"
      },
      "source": [
        "# Example of the Pearson's Correlation test\n",
        "from scipy.stats import pearsonr\n",
        "data_2019 = df[df[\"Year\"] == 2019][:20] # NO2 data 2019 year, first 20\n",
        "data_2020 = df[df[\"Year\"] == 2020][:20] # NO2 data 2020 year, first 20\n",
        "stat, p = pearsonr(data_2019[\"NO2\"], data_2020[\"NO2\"])\n",
        "print('stat=%.3f, p=%.3f' % (stat, p))\n",
        "if p > 0.05:\n",
        "\tprint('The correlation is statistically not significant')\n",
        "else:\n",
        "\tprint('The correlation is statistically significant and null hypothesis is accepted')"
      ],
      "execution_count": null,
      "outputs": [
        {
          "output_type": "stream",
          "text": [
            "stat=0.923, p=0.000\n",
            "The correlation is statistically significant and null hypothesis is accepted\n"
          ],
          "name": "stdout"
        }
      ]
    },
    {
      "cell_type": "code",
      "metadata": {
        "id": "SQ8_OueTv3_y"
      },
      "source": [],
      "execution_count": null,
      "outputs": []
    },
    {
      "cell_type": "markdown",
      "metadata": {
        "id": "RithjvBTtag-"
      },
      "source": [
        "## 2. Chi-Squared Test\n",
        "### Tests whether two categorical variables are related or independent.\n",
        "A common problem in applied machine learning is determining whether input features are relevant to the outcome to be predicted.\n",
        "\n",
        "Example: features selection in machine learning\n",
        "\n",
        ">H0: the two samples are independent.\n",
        "\n",
        ">H1: there is a dependency between the samples."
      ]
    },
    {
      "cell_type": "code",
      "metadata": {
        "colab": {
          "base_uri": "https://localhost:8080/"
        },
        "id": "598013kstcUR",
        "outputId": "61342570-72e6-4ba3-8cc1-a34b014c29fd"
      },
      "source": [
        "from scipy.stats import chi2_contingency\n",
        "table = pd.crosstab(df['City'], df['Year'], normalize=True)\n",
        "print(table)\n",
        "stat, p, dof, expected = chi2_contingency(table)\n",
        "print('stat=%.3f, p=%.3f' % (stat, p))\n",
        "if p > 0.05:\n",
        "\tprint('Probably independent')\n",
        "else:\n",
        "\tprint('Probably dependent')\n",
        "\n",
        "chi2_contingency(table)"
      ],
      "execution_count": null,
      "outputs": [
        {
          "output_type": "stream",
          "text": [
            "Year           2019      2020\n",
            "City                         \n",
            "Bergamo    0.108401  0.105691\n",
            "Madrid     0.092141  0.105691\n",
            "New Delhi  0.119241  0.127371\n",
            "New York   0.035230  0.032520\n",
            "Qom        0.062331  0.051491\n",
            "Wuhan      0.094851  0.065041\n",
            "stat=0.007, p=1.000\n",
            "Probably independent\n"
          ],
          "name": "stdout"
        },
        {
          "output_type": "execute_result",
          "data": {
            "text/plain": [
              "(0.007338546406672462, 0.9999997552426171, 5, array([[0.10965695, 0.10443519],\n",
              "        [0.10132857, 0.0965034 ],\n",
              "        [0.1263137 , 0.12029876],\n",
              "        [0.03470157, 0.03304911],\n",
              "        [0.05829863, 0.05552251],\n",
              "        [0.0818957 , 0.0779959 ]]))"
            ]
          },
          "metadata": {
            "tags": []
          },
          "execution_count": 7
        }
      ]
    },
    {
      "cell_type": "code",
      "metadata": {
        "colab": {
          "base_uri": "https://localhost:8080/"
        },
        "id": "7qiCGaSRq50t",
        "outputId": "98d59c8e-741a-40ac-eaba-99045315912e"
      },
      "source": [
        "from scipy.stats import chi2_contingency\n",
        "table = pd.crosstab(df['Year'], df['City'], normalize=True)\n",
        "print(table)\n",
        "stat, p, dof, expected = chi2_contingency(table)\n",
        "print('stat=%.3f, p=%.3f' % (stat, p))\n",
        "if p > 0.05:\n",
        "\tprint('Probably independent')\n",
        "else:\n",
        "\tprint('Probably dependent')\n",
        "\n",
        "chi2_contingency(table)"
      ],
      "execution_count": null,
      "outputs": [
        {
          "output_type": "stream",
          "text": [
            "City   Bergamo    Madrid  New Delhi  New York       Qom     Wuhan\n",
            "Year                                                             \n",
            "2019  0.108401  0.092141   0.119241   0.03523  0.062331  0.094851\n",
            "2020  0.105691  0.105691   0.127371   0.03252  0.051491  0.065041\n",
            "stat=0.007, p=1.000\n",
            "Probably independent\n"
          ],
          "name": "stdout"
        },
        {
          "output_type": "execute_result",
          "data": {
            "text/plain": [
              "(0.007338546406672462,\n",
              " 0.9999997552426171,\n",
              " 5,\n",
              " array([[0.10965695, 0.10132857, 0.1263137 , 0.03470157, 0.05829863,\n",
              "         0.0818957 ],\n",
              "        [0.10443519, 0.0965034 , 0.12029876, 0.03304911, 0.05552251,\n",
              "         0.0779959 ]]))"
            ]
          },
          "metadata": {
            "tags": []
          },
          "execution_count": 9
        }
      ]
    },
    {
      "cell_type": "markdown",
      "metadata": {
        "id": "pQutPnV0vYm2"
      },
      "source": [
        "# 3. Parametric Statistical Hypothesis Tests\n",
        "## 1. Student’s t-test\n",
        "Tests whether the means of two independent samples are significantly different.\n",
        "\n",
        "Assumptions\n",
        "\n",
        "Observations in each sample are independent and identically distributed (iid).\n",
        "Observations in each sample are normally distributed.\n",
        "Observations in each sample have the same variance.\n",
        ">H0: the means of the samples are equal.\n",
        "\n",
        ">H1: the means of the samples are unequal.\n"
      ]
    },
    {
      "cell_type": "code",
      "metadata": {
        "colab": {
          "base_uri": "https://localhost:8080/"
        },
        "id": "S-JRTMfZvpl7",
        "outputId": "978cd575-bb17-4fd0-b3fb-ce9cd4a4f15b"
      },
      "source": [
        "from scipy.stats import ttest_ind\n",
        "data_2019 = df[df[\"Year\"] == 2019] # NO2 data 2019 year\n",
        "data_2020 = df[df[\"Year\"] == 2020] # NO2 data 2020 year\n",
        "stat, p = ttest_ind(data_2019['NO2'], data_2020['NO2'])\n",
        "print('stat=%.3f, p=%.3f' % (stat, p))\n",
        "if p > 0.05:\n",
        "\tprint('Probably the same distribution')\n",
        "else:\n",
        "\tprint('Probably different distributions')"
      ],
      "execution_count": null,
      "outputs": [
        {
          "output_type": "stream",
          "text": [
            "stat=9.976, p=0.000\n",
            "Probably different distributions\n"
          ],
          "name": "stdout"
        }
      ]
    },
    {
      "cell_type": "markdown",
      "metadata": {
        "id": "Bv9wo8dTwV7B"
      },
      "source": [
        "## 2. Paired Student’s t-test\n",
        "\n",
        "Tests whether the means of two paired samples are significantly different.\n",
        "\n",
        "Assumptions\n",
        "\n",
        "Observations in each sample are independent and identically distributed (iid).\n",
        "Observations in each sample are normally distributed.\n",
        "Observations in each sample have the same variance.\n",
        "Observations across each sample are paired.\n",
        "\n",
        "\n",
        ">H0: the means of the samples are equal.\n",
        "\n",
        ">H1: the means of the samples are unequal.\n"
      ]
    },
    {
      "cell_type": "code",
      "metadata": {
        "colab": {
          "base_uri": "https://localhost:8080/"
        },
        "id": "vebEcJJEwd3F",
        "outputId": "ab90fbf5-d845-4fcc-ba0e-aa30e00a8324"
      },
      "source": [
        "from scipy.stats import ttest_rel\n",
        "data_2019 = df[df[\"Year\"] == 2019][:20] # NO2 data 2019 year, first 20\n",
        "data_2020 = df[df[\"Year\"] == 2020][:20] # NO2 data 2020 year, first 20\n",
        "stat, p = ttest_rel(data_2019['NO2'], data_2020['NO2'])\n",
        "print('stat=%.3f, p=%.3f' % (stat, p))\n",
        "if p > 0.05:\n",
        "\tprint('Probably the same distribution')\n",
        "else:\n",
        "\tprint('Probably different distributions')"
      ],
      "execution_count": null,
      "outputs": [
        {
          "output_type": "stream",
          "text": [
            "stat=23.519, p=0.000\n",
            "Probably different distributions\n"
          ],
          "name": "stdout"
        }
      ]
    },
    {
      "cell_type": "markdown",
      "metadata": {
        "id": "MqNwUSuOw5hu"
      },
      "source": [
        "# 3. Analysis of Variance Test (ANOVA)\n",
        "\n",
        ">H0: the means of the samples are equal.\n",
        "\n",
        ">H1: one or more of the means of the samples are unequal."
      ]
    },
    {
      "cell_type": "code",
      "metadata": {
        "colab": {
          "base_uri": "https://localhost:8080/"
        },
        "id": "bWyUpxysw_QL",
        "outputId": "2792d3bb-1a12-4e95-dfe8-cdd9bed2968a"
      },
      "source": [
        "from scipy.stats import f_oneway\n",
        "data1 = [0.873, 2.817, 0.121, -0.945, -0.055, -1.436, 0.360, -1.478, -1.637, -1.869]\n",
        "data2 = [1.142, -0.432, -0.938, -0.729, -0.846, -0.157, 0.500, 1.183, -1.075, -0.169]\n",
        "data3 = [-0.208, 0.696, 0.928, -1.148, -0.213, 0.229, 0.137, 0.269, -0.870, -1.204]\n",
        "stat, p = f_oneway(data1, data2, data3)\n",
        "print('stat=%.3f, p=%.3f' % (stat, p))\n",
        "if p > 0.05:\n",
        "\tprint('Probably the same distribution')\n",
        "else:\n",
        "\tprint('Probably different distributions')"
      ],
      "execution_count": null,
      "outputs": [
        {
          "output_type": "stream",
          "text": [
            "stat=0.096, p=0.908\n",
            "Probably the same distribution\n"
          ],
          "name": "stdout"
        }
      ]
    },
    {
      "cell_type": "markdown",
      "metadata": {
        "id": "x8gK69907y5w"
      },
      "source": [
        "# **Recommendaed topics for home assignments**\n",
        "Correlation Tests\n",
        "1. Spearman’s Rank Correlation\n",
        "2. This is formatted as code\n",
        "3. Kendall’s Rank Correlation\n",
        "\n",
        "Nonparametric Statistical Hypothesis Tests\n",
        "1. Mann-Whitney U Test\n",
        "2. Wilcoxon Signed-Rank Test\n",
        "3. Kruskal-Wallis H Test"
      ]
    }
  ]
}