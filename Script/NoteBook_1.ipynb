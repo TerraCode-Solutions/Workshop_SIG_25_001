{
 "cells": [
  {
   "cell_type": "markdown",
   "id": "459ee927-b933-47ae-9460-ff4b5d371416",
   "metadata": {},
   "source": [
    "![](https://i0.wp.com/terracode.space/wp-content/uploads/2025/01/LOGO-e1736877970981.jpg?resize=300%2C127&ssl=1)"
   ]
  },
  {
   "cell_type": "markdown",
   "id": "41d4ee65-7d59-47c1-810f-75ee71d9c194",
   "metadata": {},
   "source": [
    "![Python](https://www.python.org/static/community_logos/python-logo-master-v3-TM-flattened.png)\n",
    "\n",
    "*Python* is a programming language that can be used for many different tasks, including web development, data analysis, and software testing. It's a general-purpose language, which means it can be used to create a wide variety of programs. It is a versatile and easy-to-learn programming language widely used in GIS and RS due to its rich ecosystem of libraries.\n",
    "\n",
    "*Features*\n",
    "\n",
    "1. Easy to learn: Python is beginner-friendly and has easy-to-read syntax. \n",
    "2. Open-source: Python is free to download and anyone can contribute to its development. \n",
    "3. Versatile: Python can be used for many different tasks, including web development, data analysis, and software testing. \n",
    "4. Integrates well: Python integrates well with many different systems and platforms. \n",
    "\n",
    "*Uses*\n",
    "- Building websites and software\n",
    "- Automating tasks\n",
    "- Conducting data analysis\n",
    "- Software testing and prototyping\n",
    "- Scientific computing\n",
    "- Database access\n",
    "- Desktop GUIs\n",
    "- Network programming\n",
    "- Software and game development"
   ]
  },
  {
   "cell_type": "markdown",
   "id": "4248083d-1497-4705-bd61-81c9d0619fd0",
   "metadata": {},
   "source": [
    "## 1. Introduction to Python Basics\n",
    "### **Basic Syntax:**\n",
    "* Python uses indentation to define code blocks.\n",
    "* Comments are denoted by `#`.\n",
    "* Variables are assigned using `=`."
   ]
  },
  {
   "cell_type": "code",
   "execution_count": 13,
   "id": "45e77c55-fa79-4fe1-859b-1786b3ed71d7",
   "metadata": {},
   "outputs": [
    {
     "name": "stdout",
     "output_type": "stream",
     "text": [
      "Hello, GIS World!\n",
      "The sum of x and y is: 30\n"
     ]
    }
   ],
   "source": [
    "# Example: Basic Python syntax\n",
    "print(\"Hello, GIS World!\")\n",
    "x = 10\n",
    "y = 20\n",
    "z = x + y\n",
    "print(f\"The sum of x and y is: {z}\")"
   ]
  },
  {
   "cell_type": "code",
   "execution_count": null,
   "id": "9c4d0503-2427-409e-87fb-4c5e4240c364",
   "metadata": {},
   "outputs": [],
   "source": [
    "!pip install matplotlib\n",
    "!pip install pandas\n",
    "!pip install geopandas\n",
    "!pip install folium\n",
    "!pip install rasterio"
   ]
  },
  {
   "cell_type": "markdown",
   "id": "53f9688e-dc49-4e57-b7ed-efa6691230c8",
   "metadata": {},
   "source": [
    "## Some common keywords and their uses include:"
   ]
  },
  {
   "cell_type": "raw",
   "id": "b7e4b1e4-f4f1-4945-8b0b-945e659282ce",
   "metadata": {},
   "source": [
    "*True, False, None*: Boolean and null values.\n",
    "*and, or, not*: Logical operators.\n",
    "*if, elif, else*: Conditional statements.\n",
    "*for, while*: Loops.\n",
    "*break, continue*: Loop control.\n",
    "*def*: Function definition.\n",
    "*class*: Class definition.\n",
    "*return*: Return value from a function.\n",
    "*import*, from: Module import.\n",
    "*try*, except, finally: Exception handling.\n",
    "*as*: Alias for imports or context managers.\n",
    "*with*: Context manager.\n",
    "*lambda*: Anonymous function."
   ]
  },
  {
   "cell_type": "markdown",
   "id": "e2b2217a-1107-4421-a6f1-265c6b2d50bf",
   "metadata": {},
   "source": [
    "## 2. Python Data Types\n",
    "\n",
    "Understanding data types is crucial for effective data manipulation.\n",
    "    \n",
    "**Lists:** Ordered, mutable collections of items. \\\n",
    "**Tuples:** Ordered, immutable collections of items.\\\n",
    "**Dictionaries:** Unordered collections of key-value pairs."
   ]
  },
  {
   "cell_type": "code",
   "execution_count": 5,
   "id": "fcd496c5-e70f-49eb-83f3-f75a2b070968",
   "metadata": {},
   "outputs": [
    {
     "name": "stdout",
     "output_type": "stream",
     "text": [
      "[1, 2, 3, 'GIS', 'RS']\n"
     ]
    }
   ],
   "source": [
    "my_list = [1, 2, 3, \"GIS\", \"RS\"]\n",
    "print(my_list)"
   ]
  },
  {
   "cell_type": "code",
   "execution_count": 6,
   "id": "73eb8bdf-5a40-42d8-960e-cb84d6d3a1c2",
   "metadata": {},
   "outputs": [
    {
     "name": "stdout",
     "output_type": "stream",
     "text": [
      "(4, 5, 6, 'Data')\n"
     ]
    }
   ],
   "source": [
    "my_tuple = (4, 5, 6, \"Data\")\n",
    "print(my_tuple)"
   ]
  },
  {
   "cell_type": "code",
   "execution_count": 7,
   "id": "a66d0689-d93d-4e3d-b5e5-a1c147f73738",
   "metadata": {},
   "outputs": [
    {
     "name": "stdout",
     "output_type": "stream",
     "text": [
      "{'name': 'Location A', 'x': 10.5, 'y': 20.3}\n"
     ]
    }
   ],
   "source": [
    "my_dict = {\"name\": \"Location A\", \"x\": 10.5, \"y\": 20.3}\n",
    "print(my_dict)"
   ]
  },
  {
   "cell_type": "markdown",
   "id": "21376656-20d1-4a34-9e9c-4756f1514ce5",
   "metadata": {},
   "source": [
    "## 3. Control Flow\n",
    "\n",
    "Control flow statements allow you to control the execution of your code.\n",
    "\n",
    "**If-else:** Conditional execution. \\\n",
    "**Loops:** Repeated execution. \\\n",
    "**Functions:** Reusable blocks of code."
   ]
  },
  {
   "cell_type": "code",
   "execution_count": 9,
   "id": "4f9aa2cc-4cc3-452b-beb9-189729c79175",
   "metadata": {},
   "outputs": [
    {
     "name": "stdout",
     "output_type": "stream",
     "text": [
      "x is greater than 10\n"
     ]
    }
   ],
   "source": [
    "x = 15\n",
    "if x > 10:\n",
    "    print(\"x is greater than 10\")\n",
    "else:\n",
    "    print(\"x is not greater than 10\")\n"
   ]
  },
  {
   "cell_type": "code",
   "execution_count": 10,
   "id": "ac65cc68-b572-4e7e-be02-9b2535286108",
   "metadata": {},
   "outputs": [
    {
     "name": "stdout",
     "output_type": "stream",
     "text": [
      "Loop iteration: 0\n",
      "Loop iteration: 1\n",
      "Loop iteration: 2\n",
      "Loop iteration: 3\n",
      "Loop iteration: 4\n"
     ]
    }
   ],
   "source": [
    "for i in range(5):\n",
    "    print(f\"Loop iteration: {i}\")\n",
    "\n"
   ]
  },
  {
   "cell_type": "code",
   "execution_count": 11,
   "id": "5d811f44-0383-4380-887f-ba57af24b97e",
   "metadata": {},
   "outputs": [
    {
     "name": "stdout",
     "output_type": "stream",
     "text": [
      "The result of the function is: 12\n"
     ]
    }
   ],
   "source": [
    "def add_numbers(a, b):\n",
    "    return a + b\n",
    "\n",
    "result = add_numbers(5, 7)\n",
    "print(f\"The result of the function is: {result}\")"
   ]
  },
  {
   "cell_type": "code",
   "execution_count": 17,
   "id": "f1625e7a-3ab8-4d5e-8bf1-179710a9bde1",
   "metadata": {},
   "outputs": [
    {
     "name": "stdout",
     "output_type": "stream",
     "text": [
      "The result of the function is: 12\n"
     ]
    }
   ],
   "source": [
    "## Anonymous Function\n",
    "\n",
    "# lambda: Used to create anonymous (one-line) functions.\n",
    "\n",
    "# Example: Lambda\n",
    "add_numbers = lambda a, b: a + b\n",
    "result = add_numbers(5, 7)\n",
    "print(f\"The result of the function is: {result}\")"
   ]
  },
  {
   "cell_type": "markdown",
   "id": "da7b98e2-b58f-464c-bead-107b9142c0a4",
   "metadata": {},
   "source": [
    "## 4. Hands-on Exercises Related to Spatial Data Processing\n",
    "\n",
    "Let's apply basic Python concepts to spatial scenarios."
   ]
  },
  {
   "cell_type": "markdown",
   "id": "623527f2-c40d-4e25-9c5c-1791615b40c4",
   "metadata": {},
   "source": [
    "> Exercise: Create a list of coordinates and calculate the distance between two points."
   ]
  },
  {
   "cell_type": "code",
   "execution_count": 18,
   "id": "29bcf8a7-a58f-45b6-b28c-41b4bcf8a090",
   "metadata": {},
   "outputs": [
    {
     "name": "stdout",
     "output_type": "stream",
     "text": [
      "Distance between point1 and point2: 7.0710678118654755\n"
     ]
    }
   ],
   "source": [
    "import math\n",
    "\n",
    "coordinates = [(10, 20), (15, 25), (30, 40)]\n",
    "point1 = coordinates[0]\n",
    "point2 = coordinates[1]\n",
    "\n",
    "distance = math.sqrt((point2[0] - point1[0])**2 + (point2[1] - point1[1])**2)\n",
    "print(f\"Distance between point1 and point2: {distance}\")"
   ]
  },
  {
   "cell_type": "markdown",
   "id": "7a05695d-7ce6-4f3d-8ef1-d5d49b80826d",
   "metadata": {},
   "source": [
    "---\n",
    "## 5. Using Pandas for GIS Data Handling\n",
    "\n",
    "Pandas is a powerful library for data manipulation and analysis.\n",
    "\n",
    "---\n",
    "\n",
    "Install and import pandas if needed. \n"
   ]
  },
  {
   "cell_type": "code",
   "execution_count": 21,
   "id": "37b6fbb9-cfe5-48f2-b4ad-4a6381bebb73",
   "metadata": {},
   "outputs": [],
   "source": [
    "# !pip install pandas"
   ]
  },
  {
   "cell_type": "code",
   "execution_count": 22,
   "id": "e106734f-1112-48df-86eb-5dc9ac1ed1ea",
   "metadata": {},
   "outputs": [
    {
     "name": "stdout",
     "output_type": "stream",
     "text": [
      "       lat       lon       city\n",
      "0  34.0522 -118.2437      Delhi\n",
      "1  40.7128  -74.0060  Prayagraj\n",
      "2  37.7749 -122.4194     Boston\n"
     ]
    }
   ],
   "source": [
    "import pandas as pd\n",
    "\n",
    "# Example: Reading and writing CSV files\n",
    "data = {\"lat\": [34.0522, 40.7128, 37.7749], \"lon\": [-118.2437, -74.0060, -122.4194], \"city\": [\"Delhi\", \"Prayagraj\", \"Boston\"]}\n",
    "df = pd.DataFrame(data)\n",
    "df.to_csv(\"../Inpup_data/cities.csv\", index=False)\n",
    "df_read = pd.read_csv(\"../Inpup_data/cities.csv\")\n",
    "print(df_read.head())"
   ]
  },
  {
   "cell_type": "code",
   "execution_count": 25,
   "id": "78f932e5-e5f2-4ed2-b3e9-2f4a1f6f4f6d",
   "metadata": {},
   "outputs": [
    {
     "data": {
      "image/png": "[encoded data removed]",
      "text/plain": [
       "<Figure size 640x480 with 1 Axes>"
      ]
     },
     "metadata": {},
     "output_type": "display_data"
    }
   ],
   "source": [
    "# Example: Visualization of tabular GIS data using Matplotlib\n",
    "import matplotlib.pyplot as plt\n",
    "\n",
    "plt.scatter(df_read[\"lon\"], df_read[\"lat\"])\n",
    "plt.xlabel(\"Longitude\")\n",
    "plt.ylabel(\"Latitude\")\n",
    "plt.title(\"City Locations\")\n",
    "plt.show()"
   ]
  },
  {
   "cell_type": "code",
   "execution_count": 26,
   "id": "898d09ea-4c05-4770-8094-9052b252578e",
   "metadata": {},
   "outputs": [
    {
     "data": {
      "image/png": "[encoded data removed]",
      "text/plain": [
       "<Figure size 640x480 with 1 Axes>"
      ]
     },
     "metadata": {},
     "output_type": "display_data"
    }
   ],
   "source": [
    "plt.scatter(df_read[\"lon\"], df_read[\"lat\"])\n",
    "for i, txt in enumerate(df_read[\"city\"]):\n",
    "    plt.annotate(txt, (df_read[\"lon\"][i], df_read[\"lat\"][i]), fontsize=9, ha='right')\n",
    "plt.xlabel(\"Longitude\")\n",
    "plt.ylabel(\"Latitude\")\n",
    "plt.title(\"City Locations with Labels\")\n",
    "plt.show()\n"
   ]
  },
  {
   "cell_type": "markdown",
   "id": "79671458-b725-4d46-a074-b3434c63eccc",
   "metadata": {},
   "source": [
    "---\n",
    "\n",
    "## 6. Introduction to GeoPandas for Spatial Data\n",
    "\n",
    "GeoPandas extends Pandas to handle geospatial data.\n",
    "    \n",
    "---\n",
    "\n",
    "Install and import geopandas if needed.\n",
    "!pip install geopandas"
   ]
  },
  {
   "cell_type": "code",
   "execution_count": 28,
   "id": "c5f8a3e7-e6fc-48e0-99a9-0a61809f9f14",
   "metadata": {},
   "outputs": [],
   "source": [
    "# !pip install geopandas"
   ]
  },
  {
   "cell_type": "code",
   "execution_count": 29,
   "id": "7be69e5f-f715-4e65-8eb0-77dfad5f7901",
   "metadata": {},
   "outputs": [
    {
     "name": "stdout",
     "output_type": "stream",
     "text": [
      "       lat       lon       city                   geometry\n",
      "0  34.0522 -118.2437      Delhi  POINT (-118.2437 34.0522)\n",
      "1  40.7128  -74.0060  Prayagraj    POINT (-74.006 40.7128)\n",
      "2  37.7749 -122.4194     Boston  POINT (-122.4194 37.7749)\n"
     ]
    },
    {
     "data": {
      "image/png": "[encoded data removed]",
      "text/plain": [
       "<Figure size 640x480 with 1 Axes>"
      ]
     },
     "metadata": {},
     "output_type": "display_data"
    }
   ],
   "source": [
    "import geopandas as gpd\n",
    "from shapely.geometry import Point\n",
    "\n",
    "# Example: Creating and manipulating GeoDataFrames\n",
    "geometry = [Point(xy) for xy in zip(df_read[\"lon\"], df_read[\"lat\"])]\n",
    "gdf = gpd.GeoDataFrame(df_read, geometry=geometry)\n",
    "print(gdf.head())\n",
    "\n",
    "# Example: Plotting spatial data using Matplotlib\n",
    "gdf.plot()\n",
    "plt.title(\"Geospatial City Locations\")\n",
    "plt.show()"
   ]
  },
  {
   "cell_type": "markdown",
   "id": "78bbbec1-a59e-4f8e-a371-a7ed7100e0b3",
   "metadata": {},
   "source": [
    "---\n",
    "\n",
    "## 7. Working with Shapefiles\n",
    "\n",
    "Shapefiles are a common geospatial data format.\n",
    "\n",
    "---\n",
    "\n",
    "Example: Reading and analyzing shapefiles (You'll need a shapefile. Download one or use a built in dataset) \\\n",
    "!wget https://naturalearth.s3.amazonaws.com/110m_cultural/ne_110m_admin_0_countries.zip \\\n",
    "!unzip ne_110m_admin_0_countries.zip\n"
   ]
  },
  {
   "cell_type": "code",
   "execution_count": 30,
   "id": "2fcfc716-4da3-4f64-b2cb-15f38a995707",
   "metadata": {},
   "outputs": [
    {
     "name": "stdout",
     "output_type": "stream",
     "text": [
      "        featurecla  scalerank  LABELRANK                   SOVEREIGNT SOV_A3  \\\n",
      "0  Admin-0 country          1          6                         Fiji    FJI   \n",
      "1  Admin-0 country          1          3  United Republic of Tanzania    TZA   \n",
      "2  Admin-0 country          1          7               Western Sahara    SAH   \n",
      "3  Admin-0 country          1          2                       Canada    CAN   \n",
      "4  Admin-0 country          1          2     United States of America    US1   \n",
      "\n",
      "   ADM0_DIF  LEVEL               TYPE TLC                        ADMIN  ...  \\\n",
      "0         0      2  Sovereign country   1                         Fiji  ...   \n",
      "1         0      2  Sovereign country   1  United Republic of Tanzania  ...   \n",
      "2         0      2      Indeterminate   1               Western Sahara  ...   \n",
      "3         0      2  Sovereign country   1                       Canada  ...   \n",
      "4         1      2            Country   1     United States of America  ...   \n",
      "\n",
      "      FCLASS_TR     FCLASS_ID     FCLASS_PL FCLASS_GR  FCLASS_IT  \\\n",
      "0          None          None          None      None       None   \n",
      "1          None          None          None      None       None   \n",
      "2  Unrecognized  Unrecognized  Unrecognized      None       None   \n",
      "3          None          None          None      None       None   \n",
      "4          None          None          None      None       None   \n",
      "\n",
      "      FCLASS_NL FCLASS_SE  FCLASS_BD FCLASS_UA  \\\n",
      "0          None      None       None      None   \n",
      "1          None      None       None      None   \n",
      "2  Unrecognized      None       None      None   \n",
      "3          None      None       None      None   \n",
      "4          None      None       None      None   \n",
      "\n",
      "                                            geometry  \n",
      "0  MULTIPOLYGON (((180 -16.06713, 180 -16.55522, ...  \n",
      "1  POLYGON ((33.90371 -0.95, 34.07262 -1.05982, 3...  \n",
      "2  POLYGON ((-8.66559 27.65643, -8.66512 27.58948...  \n",
      "3  MULTIPOLYGON (((-122.84 49, -122.97421 49.0025...  \n",
      "4  MULTIPOLYGON (((-122.84 49, -120 49, -117.0312...  \n",
      "\n",
      "[5 rows x 169 columns]\n"
     ]
    },
    {
     "data": {
      "image/png": "[encoded data removed]",
      "text/plain": [
       "<Figure size 640x480 with 1 Axes>"
      ]
     },
     "metadata": {},
     "output_type": "display_data"
    },
    {
     "data": {
      "image/png": "[encoded data removed]",
      "text/plain": [
       "<Figure size 640x480 with 1 Axes>"
      ]
     },
     "metadata": {},
     "output_type": "display_data"
    }
   ],
   "source": [
    "countries = gpd.read_file(\"../Inpup_data/ne_110m_admin_0_countries/ne_110m_admin_0_countries.shp\")\n",
    "print(countries.head())\n",
    "\n",
    "# Example: Visualizing shapefiles in a static plot\n",
    "countries.plot()\n",
    "plt.title(\"World Countries\")\n",
    "plt.show()\n",
    "\n",
    "# Example: Filtering spatial features based on attributes\n",
    "europe = countries[countries[\"CONTINENT\"] == \"Europe\"]\n",
    "europe.plot()\n",
    "plt.title(\"European Countries\")\n",
    "plt.show()"
   ]
  },
  {
   "cell_type": "markdown",
   "id": "17e7b365-4da2-4075-970e-dd08ffde6f0e",
   "metadata": {},
   "source": [
    "---\n",
    "\n",
    "## 8. Interactive GIS Mapping using Folium\n",
    "\n",
    "Folium allows you to create interactive maps.\n",
    "\n",
    "---\n",
    "\n",
    "Install and import folium if needed. \\\n",
    "!pip install folium"
   ]
  },
  {
   "cell_type": "code",
   "execution_count": 33,
   "id": "61722fc0-8dc0-4e7d-a3f0-bedb5c1f7289",
   "metadata": {},
   "outputs": [
    {
     "data": {
      "text/html": [
       "<div style=\"width:100%;\"><div style=\"position:relative;width:100%;height:0;padding-bottom:60%;\"><span style=\"color:#565656\">Make this Notebook Trusted to load map: File -> Trust Notebook</span><iframe srcdoc=\"&lt;!DOCTYPE html&gt;\n",
       "&lt;html&gt;\n",
       "&lt;head&gt;\n",
       "    \n",
       "    &lt;meta http-equiv=&quot;content-type&quot; content=&quot;text/html; charset=UTF-8&quot; /&gt;\n",
       "    \n",
       "        &lt;script&gt;\n",
       "            L_NO_TOUCH = false;\n",
       "            L_DISABLE_3D = false;\n",
       "        &lt;/script&gt;\n",
       "    \n",
       "    &lt;style&gt;html, body {width: 100%;height: 100%;margin: 0;padding: 0;}&lt;/style&gt;\n",
       "    &lt;style&gt;#map {position:absolute;top:0;bottom:0;right:0;left:0;}&lt;/style&gt;\n",
       "    &lt;script src=&quot;https://cdn.jsdelivr.net/npm/leaflet@1.9.3/dist/leaflet.js&quot;&gt;&lt;/script&gt;\n",
       "    &lt;script src=&quot;https://code.jquery.com/jquery-3.7.1.min.js&quot;&gt;&lt;/script&gt;\n",
       "    &lt;script src=&quot;https://cdn.jsdelivr.net/npm/bootstrap@5.2.2/dist/js/bootstrap.bundle.min.js&quot;&gt;&lt;/script&gt;\n",
       "    &lt;script src=&quot;https://cdnjs.cloudflare.com/ajax/libs/Leaflet.awesome-markers/2.0.2/leaflet.awesome-markers.js&quot;&gt;&lt;/script&gt;\n",
       "    &lt;link rel=&quot;stylesheet&quot; href=&quot;https://cdn.jsdelivr.net/npm/leaflet@1.9.3/dist/leaflet.css&quot;/&gt;\n",
       "    &lt;link rel=&quot;stylesheet&quot; href=&quot;https://cdn.jsdelivr.net/npm/bootstrap@5.2.2/dist/css/bootstrap.min.css&quot;/&gt;\n",
       "    &lt;link rel=&quot;stylesheet&quot; href=&quot;https://netdna.bootstrapcdn.com/bootstrap/3.0.0/css/bootstrap-glyphicons.css&quot;/&gt;\n",
       "    &lt;link rel=&quot;stylesheet&quot; href=&quot;https://cdn.jsdelivr.net/npm/@fortawesome/fontawesome-free@6.2.0/css/all.min.css&quot;/&gt;\n",
       "    &lt;link rel=&quot;stylesheet&quot; href=&quot;https://cdnjs.cloudflare.com/ajax/libs/Leaflet.awesome-markers/2.0.2/leaflet.awesome-markers.css&quot;/&gt;\n",
       "    &lt;link rel=&quot;stylesheet&quot; href=&quot;https://cdn.jsdelivr.net/gh/python-visualization/folium/folium/templates/leaflet.awesome.rotate.min.css&quot;/&gt;\n",
       "    \n",
       "            &lt;meta name=&quot;viewport&quot; content=&quot;width=device-width,\n",
       "                initial-scale=1.0, maximum-scale=1.0, user-scalable=no&quot; /&gt;\n",
       "            &lt;style&gt;\n",
       "                #map_37886d02a870f96709c0560b393ca973 {\n",
       "                    position: relative;\n",
       "                    width: 100.0%;\n",
       "                    height: 100.0%;\n",
       "                    left: 0.0%;\n",
       "                    top: 0.0%;\n",
       "                }\n",
       "                .leaflet-container { font-size: 1rem; }\n",
       "            &lt;/style&gt;\n",
       "        \n",
       "&lt;/head&gt;\n",
       "&lt;body&gt;\n",
       "    \n",
       "    \n",
       "            &lt;div class=&quot;folium-map&quot; id=&quot;map_37886d02a870f96709c0560b393ca973&quot; &gt;&lt;/div&gt;\n",
       "        \n",
       "&lt;/body&gt;\n",
       "&lt;script&gt;\n",
       "    \n",
       "    \n",
       "            var map_37886d02a870f96709c0560b393ca973 = L.map(\n",
       "                &quot;map_37886d02a870f96709c0560b393ca973&quot;,\n",
       "                {\n",
       "                    center: [37.7749, -122.4194],\n",
       "                    crs: L.CRS.EPSG3857,\n",
       "                    ...{\n",
       "  &quot;zoom&quot;: 10,\n",
       "  &quot;zoomControl&quot;: true,\n",
       "  &quot;preferCanvas&quot;: false,\n",
       "}\n",
       "\n",
       "                }\n",
       "            );\n",
       "\n",
       "            \n",
       "\n",
       "        \n",
       "    \n",
       "            var tile_layer_1dd87ed33dff4e98a40008c84f5863c8 = L.tileLayer(\n",
       "                &quot;https://tile.openstreetmap.org/{z}/{x}/{y}.png&quot;,\n",
       "                {\n",
       "  &quot;minZoom&quot;: 0,\n",
       "  &quot;maxZoom&quot;: 19,\n",
       "  &quot;maxNativeZoom&quot;: 19,\n",
       "  &quot;noWrap&quot;: false,\n",
       "  &quot;attribution&quot;: &quot;\\u0026copy; \\u003ca href=\\&quot;https://www.openstreetmap.org/copyright\\&quot;\\u003eOpenStreetMap\\u003c/a\\u003e contributors&quot;,\n",
       "  &quot;subdomains&quot;: &quot;abc&quot;,\n",
       "  &quot;detectRetina&quot;: false,\n",
       "  &quot;tms&quot;: false,\n",
       "  &quot;opacity&quot;: 1,\n",
       "}\n",
       "\n",
       "            );\n",
       "        \n",
       "    \n",
       "            tile_layer_1dd87ed33dff4e98a40008c84f5863c8.addTo(map_37886d02a870f96709c0560b393ca973);\n",
       "        \n",
       "    \n",
       "            var marker_c538c548433f1f7e3d3571e0c966c05a = L.marker(\n",
       "                [34.0522, -118.2437],\n",
       "                {\n",
       "}\n",
       "            ).addTo(map_37886d02a870f96709c0560b393ca973);\n",
       "        \n",
       "    \n",
       "        var popup_c5b1c35201f499b53606314103f37169 = L.popup({\n",
       "  &quot;maxWidth&quot;: &quot;100%&quot;,\n",
       "});\n",
       "\n",
       "        \n",
       "            \n",
       "                var html_5fd9b8172c82f588d9226ae23dac04f0 = $(`&lt;div id=&quot;html_5fd9b8172c82f588d9226ae23dac04f0&quot; style=&quot;width: 100.0%; height: 100.0%;&quot;&gt;Delhi&lt;/div&gt;`)[0];\n",
       "                popup_c5b1c35201f499b53606314103f37169.setContent(html_5fd9b8172c82f588d9226ae23dac04f0);\n",
       "            \n",
       "        \n",
       "\n",
       "        marker_c538c548433f1f7e3d3571e0c966c05a.bindPopup(popup_c5b1c35201f499b53606314103f37169)\n",
       "        ;\n",
       "\n",
       "        \n",
       "    \n",
       "    \n",
       "            var marker_84c3d92c37e2153eb8332139742bb7b4 = L.marker(\n",
       "                [40.7128, -74.006],\n",
       "                {\n",
       "}\n",
       "            ).addTo(map_37886d02a870f96709c0560b393ca973);\n",
       "        \n",
       "    \n",
       "        var popup_70055c32e22b4fcc65e20646885ba4e1 = L.popup({\n",
       "  &quot;maxWidth&quot;: &quot;100%&quot;,\n",
       "});\n",
       "\n",
       "        \n",
       "            \n",
       "                var html_908536ec72e4a1ae7c4650e87574eace = $(`&lt;div id=&quot;html_908536ec72e4a1ae7c4650e87574eace&quot; style=&quot;width: 100.0%; height: 100.0%;&quot;&gt;Prayagraj&lt;/div&gt;`)[0];\n",
       "                popup_70055c32e22b4fcc65e20646885ba4e1.setContent(html_908536ec72e4a1ae7c4650e87574eace);\n",
       "            \n",
       "        \n",
       "\n",
       "        marker_84c3d92c37e2153eb8332139742bb7b4.bindPopup(popup_70055c32e22b4fcc65e20646885ba4e1)\n",
       "        ;\n",
       "\n",
       "        \n",
       "    \n",
       "    \n",
       "            var marker_ecaa276527a97a8f816c64b90cf13f28 = L.marker(\n",
       "                [37.7749, -122.4194],\n",
       "                {\n",
       "}\n",
       "            ).addTo(map_37886d02a870f96709c0560b393ca973);\n",
       "        \n",
       "    \n",
       "        var popup_d900bfe6e83bc167535586f20c92b898 = L.popup({\n",
       "  &quot;maxWidth&quot;: &quot;100%&quot;,\n",
       "});\n",
       "\n",
       "        \n",
       "            \n",
       "                var html_15e90ee741e8810bef22bbd351141c4d = $(`&lt;div id=&quot;html_15e90ee741e8810bef22bbd351141c4d&quot; style=&quot;width: 100.0%; height: 100.0%;&quot;&gt;Boston&lt;/div&gt;`)[0];\n",
       "                popup_d900bfe6e83bc167535586f20c92b898.setContent(html_15e90ee741e8810bef22bbd351141c4d);\n",
       "            \n",
       "        \n",
       "\n",
       "        marker_ecaa276527a97a8f816c64b90cf13f28.bindPopup(popup_d900bfe6e83bc167535586f20c92b898)\n",
       "        ;\n",
       "\n",
       "        \n",
       "    \n",
       "&lt;/script&gt;\n",
       "&lt;/html&gt;\" style=\"position:absolute;width:100%;height:100%;left:0;top:0;border:none !important;\" allowfullscreen webkitallowfullscreen mozallowfullscreen></iframe></div></div>"
      ],
      "text/plain": [
       "<folium.folium.Map at 0x116dc9090>"
      ]
     },
     "execution_count": 33,
     "metadata": {},
     "output_type": "execute_result"
    }
   ],
   "source": [
    "import folium\n",
    "\n",
    "# Example: Generating interactive maps using Folium\n",
    "m = folium.Map(location=[37.7749, -122.4194], zoom_start=10)\n",
    "\n",
    "# Example: Adding markers, popups, and layers to maps\n",
    "for index, row in gdf.iterrows():\n",
    "    folium.Marker(location=[row[\"lat\"], row[\"lon\"]], popup=row[\"city\"]).add_to(m)\n",
    "\n",
    "m"
   ]
  },
  {
   "cell_type": "markdown",
   "id": "e98c2942-6cdc-4b0f-a4e0-cac89fa9906a",
   "metadata": {},
   "source": [
    "---\n",
    "\n",
    "## 9. Reading and Processing Raster Data\n",
    "\n",
    "Rasterio is used for reading and manipulating raster datasets.\n",
    "\n",
    "---\n",
    "\n",
    "Install and import rasterio if needed. \\\n",
    "!pip install rasterio"
   ]
  },
  {
   "cell_type": "code",
   "execution_count": 36,
   "id": "be182c64-c79d-4b20-91b8-02b8c2613332",
   "metadata": {},
   "outputs": [
    {
     "ename": "RasterioIOError",
     "evalue": "LC08_L1TP_042034_20200812_20200820_01_T1_B4.TIF: No such file or directory",
     "output_type": "error",
     "traceback": [
      "\u001b[0;31m---------------------------------------------------------------------------\u001b[0m",
      "\u001b[0;31mCPLE_OpenFailedError\u001b[0m                      Traceback (most recent call last)",
      "File \u001b[0;32mrasterio/_base.pyx:310\u001b[0m, in \u001b[0;36mrasterio._base.DatasetBase.__init__\u001b[0;34m()\u001b[0m\n",
      "File \u001b[0;32mrasterio/_base.pyx:221\u001b[0m, in \u001b[0;36mrasterio._base.open_dataset\u001b[0;34m()\u001b[0m\n",
      "File \u001b[0;32mrasterio/_err.pyx:359\u001b[0m, in \u001b[0;36mrasterio._err.exc_wrap_pointer\u001b[0;34m()\u001b[0m\n",
      "\u001b[0;31mCPLE_OpenFailedError\u001b[0m: LC08_L1TP_042034_20200812_20200820_01_T1_B4.TIF: No such file or directory",
      "\nDuring handling of the above exception, another exception occurred:\n",
      "\u001b[0;31mRasterioIOError\u001b[0m                           Traceback (most recent call last)",
      "Cell \u001b[0;32mIn[36], line 8\u001b[0m\n\u001b[1;32m      4\u001b[0m \u001b[38;5;66;03m# Example: Reading and manipulating raster datasets (You'll need a raster file. Download one or use a built in dataset)\u001b[39;00m\n\u001b[1;32m      5\u001b[0m \u001b[38;5;66;03m# !wget https://landsat-pds.s3.amazonaws.com/c1/L8/042/034/LC08_L1TP_042034_20200812_20200820_01_T1/LC08_L1TP_042034_20200812_20200820_01_T1_B4.TIF\u001b[39;00m\n\u001b[1;32m      6\u001b[0m raster_path \u001b[38;5;241m=\u001b[39m \u001b[38;5;124m\"\u001b[39m\u001b[38;5;124mLC08_L1TP_042034_20200812_20200820_01_T1_B4.TIF\u001b[39m\u001b[38;5;124m\"\u001b[39m \u001b[38;5;66;03m#replace with your raster file path.\u001b[39;00m\n\u001b[0;32m----> 8\u001b[0m \u001b[38;5;28;01mwith\u001b[39;00m \u001b[43mrasterio\u001b[49m\u001b[38;5;241;43m.\u001b[39;49m\u001b[43mopen\u001b[49m\u001b[43m(\u001b[49m\u001b[43mraster_path\u001b[49m\u001b[43m)\u001b[49m \u001b[38;5;28;01mas\u001b[39;00m src:\n\u001b[1;32m      9\u001b[0m     band4 \u001b[38;5;241m=\u001b[39m src\u001b[38;5;241m.\u001b[39mread(\u001b[38;5;241m1\u001b[39m)\n\u001b[1;32m     10\u001b[0m     show(band4, title\u001b[38;5;241m=\u001b[39m\u001b[38;5;124m\"\u001b[39m\u001b[38;5;124mBand 4 (Red)\u001b[39m\u001b[38;5;124m\"\u001b[39m)\n",
      "File \u001b[0;32m~/anaconda3/envs/Terracode_SIG_workshop/lib/python3.13/site-packages/rasterio/env.py:463\u001b[0m, in \u001b[0;36mensure_env_with_credentials.<locals>.wrapper\u001b[0;34m(*args, **kwds)\u001b[0m\n\u001b[1;32m    460\u001b[0m     session \u001b[38;5;241m=\u001b[39m DummySession()\n\u001b[1;32m    462\u001b[0m \u001b[38;5;28;01mwith\u001b[39;00m env_ctor(session\u001b[38;5;241m=\u001b[39msession):\n\u001b[0;32m--> 463\u001b[0m     \u001b[38;5;28;01mreturn\u001b[39;00m \u001b[43mf\u001b[49m\u001b[43m(\u001b[49m\u001b[38;5;241;43m*\u001b[39;49m\u001b[43margs\u001b[49m\u001b[43m,\u001b[49m\u001b[43m \u001b[49m\u001b[38;5;241;43m*\u001b[39;49m\u001b[38;5;241;43m*\u001b[39;49m\u001b[43mkwds\u001b[49m\u001b[43m)\u001b[49m\n",
      "File \u001b[0;32m~/anaconda3/envs/Terracode_SIG_workshop/lib/python3.13/site-packages/rasterio/__init__.py:356\u001b[0m, in \u001b[0;36mopen\u001b[0;34m(fp, mode, driver, width, height, count, crs, transform, dtype, nodata, sharing, opener, **kwargs)\u001b[0m\n\u001b[1;32m    353\u001b[0m     path \u001b[38;5;241m=\u001b[39m _parse_path(raw_dataset_path)\n\u001b[1;32m    355\u001b[0m \u001b[38;5;28;01mif\u001b[39;00m mode \u001b[38;5;241m==\u001b[39m \u001b[38;5;124m\"\u001b[39m\u001b[38;5;124mr\u001b[39m\u001b[38;5;124m\"\u001b[39m:\n\u001b[0;32m--> 356\u001b[0m     dataset \u001b[38;5;241m=\u001b[39m \u001b[43mDatasetReader\u001b[49m\u001b[43m(\u001b[49m\u001b[43mpath\u001b[49m\u001b[43m,\u001b[49m\u001b[43m \u001b[49m\u001b[43mdriver\u001b[49m\u001b[38;5;241;43m=\u001b[39;49m\u001b[43mdriver\u001b[49m\u001b[43m,\u001b[49m\u001b[43m \u001b[49m\u001b[43msharing\u001b[49m\u001b[38;5;241;43m=\u001b[39;49m\u001b[43msharing\u001b[49m\u001b[43m,\u001b[49m\u001b[43m \u001b[49m\u001b[38;5;241;43m*\u001b[39;49m\u001b[38;5;241;43m*\u001b[39;49m\u001b[43mkwargs\u001b[49m\u001b[43m)\u001b[49m\n\u001b[1;32m    357\u001b[0m \u001b[38;5;28;01melif\u001b[39;00m mode \u001b[38;5;241m==\u001b[39m \u001b[38;5;124m\"\u001b[39m\u001b[38;5;124mr+\u001b[39m\u001b[38;5;124m\"\u001b[39m:\n\u001b[1;32m    358\u001b[0m     dataset \u001b[38;5;241m=\u001b[39m get_writer_for_path(path, driver\u001b[38;5;241m=\u001b[39mdriver)(\n\u001b[1;32m    359\u001b[0m         path, mode, driver\u001b[38;5;241m=\u001b[39mdriver, sharing\u001b[38;5;241m=\u001b[39msharing, \u001b[38;5;241m*\u001b[39m\u001b[38;5;241m*\u001b[39mkwargs\n\u001b[1;32m    360\u001b[0m     )\n",
      "File \u001b[0;32mrasterio/_base.pyx:312\u001b[0m, in \u001b[0;36mrasterio._base.DatasetBase.__init__\u001b[0;34m()\u001b[0m\n",
      "\u001b[0;31mRasterioIOError\u001b[0m: LC08_L1TP_042034_20200812_20200820_01_T1_B4.TIF: No such file or directory"
     ]
    }
   ],
   "source": [
    "import rasterio\n",
    "from rasterio.plot import show\n",
    "\n",
    "# Example: Reading and manipulating raster datasets (You'll need a raster file. Download one or use a built in dataset)\n",
    "# !wget https://landsat-pds.s3.amazonaws.com/c1/L8/042/034/LC08_L1TP_042034_20200812_20200820_01_T1/LC08_L1TP_042034_20200812_20200820_01_T1_B4.TIF\n",
    "raster_path = \"LC08_L1TP_042034_20200812_20200820_01_T1_B4.TIF\" #replace with your raster file path.\n",
    "\n",
    "with rasterio.open(raster_path) as src:\n",
    "    band4 = src.read(1)\n",
    "    show(band4, title=\"Band 4 (Red)\")\n",
    "\n",
    "# Example: Extracting pixel values\n",
    "pixel_value = band4[100, 100]\n",
    "print(f\"Pixel value at (100, 100): {pixel_value}\")\n"
   ]
  },
  {
   "cell_type": "code",
   "execution_count": null,
   "id": "5b3486ef-436f-415c-9cce-c84bc249f7bb",
   "metadata": {},
   "outputs": [],
   "source": []
  }
 ],
 "metadata": {
  "kernelspec": {
   "display_name": "Terracode_SIG_workshop",
   "language": "python",
   "name": "myenv"
  },
  "language_info": {
   "codemirror_mode": {
    "name": "ipython",
    "version": 3
   },
   "file_extension": ".py",
   "mimetype": "text/x-python",
   "name": "python",
   "nbconvert_exporter": "python",
   "pygments_lexer": "ipython3",
   "version": "3.13.2"
  }
 },
 "nbformat": 4,
 "nbformat_minor": 5
}
