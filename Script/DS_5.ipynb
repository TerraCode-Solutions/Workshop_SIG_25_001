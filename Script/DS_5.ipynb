{
  "nbformat": 4,
  "nbformat_minor": 0,
  "metadata": {
    "colab": {
      "provenance": [],
      "toc_visible": true
    },
    "kernelspec": {
      "name": "python3",
      "display_name": "Python 3"
    },
    "language_info": {
      "name": "python"
    }
  },
  "cells": [
    {
      "cell_type": "code",
      "execution_count": 1,
      "metadata": {
        "colab": {
          "base_uri": "https://localhost:8080/"
        },
        "id": "6yWJTaVAbBbV",
        "outputId": "a8c20054-0400-4637-8ffe-b12ab7735019"
      },
      "outputs": [
        {
          "output_type": "stream",
          "name": "stdout",
          "text": [
            "Mounted at /content/drive\n"
          ]
        }
      ],
      "source": [
        "from google.colab import drive\n",
        "drive.mount('/content/drive', force_remount=True)"
      ]
    },
    {
      "cell_type": "code",
      "source": [
        "!ls /content/drive/MyDrive/Data_Science/"
      ],
      "metadata": {
        "colab": {
          "base_uri": "https://localhost:8080/"
        },
        "id": "lIEBPwkMbD2u",
        "outputId": "9181d5a6-9f58-43ff-82b8-86b83425ebbc"
      },
      "execution_count": 2,
      "outputs": [
        {
          "output_type": "stream",
          "name": "stdout",
          "text": [
            " bihar_administrative.dbf   Data_science_NK.pptx\t     Matplotlib_Data_science.pptx\n",
            " bihar_administrative.prj  'Desktop\\export_dataframe.xlsx'   Matplotlib_DS_1.ipynb\n",
            " bihar_administrative.shx   DS_1.ipynb\t\t\t     NDVI.csv\n",
            " boxplot.pptx\t\t    DS_2.ipynb\t\t\t    'NO2 (1).csv'\n",
            " cpr_plot_1.csv\t\t    DS_3.ipynb\t\t\t     NO2.csv\n",
            "'cpr_plot (1).csv'\t    DS_4.1.ipynb\t\t     Shape_folder\n",
            "'cpr_plot (2).csv'\t    DS_4.2.ipynb\t\t     SSM.csv\n",
            " cpr_plot.csv\t\t    LST.csv\n"
          ]
        }
      ]
    },
    {
      "cell_type": "code",
      "source": [
        "import os\n",
        "os.chdir('/content/drive/MyDrive/Data_Science/')\n",
        "!pwd"
      ],
      "metadata": {
        "colab": {
          "base_uri": "https://localhost:8080/"
        },
        "id": "9p6Koz2WbxA6",
        "outputId": "921ac330-6c49-4531-9fd0-faefe1d79f4c"
      },
      "execution_count": 3,
      "outputs": [
        {
          "output_type": "stream",
          "name": "stdout",
          "text": [
            "/content/drive/MyDrive/Data_Science\n"
          ]
        }
      ]
    },
    {
      "cell_type": "markdown",
      "source": [
        "# Issues and Corrections in DataFrame\n",
        "DataFrame Preview: The preview in the image displays the DataFrame with columns 'Date', 'NO2', 'Year', and 'City'. It shows that NO2 data is recorded over different dates and cities.\n",
        "\n",
        "Plotting the Data: The usage of sns.displot() is appropriate for showing the distribution of NO2 levels. However, if there are any issues with this line (not shown in the image), it's typically related to data types or missing data. Ensure that the 'NO2' column doesn't contain any non-numeric or NaN values that could cause errors during plotting"
      ],
      "metadata": {
        "id": "QUGy57LCbLPr"
      }
    },
    {
      "cell_type": "code",
      "source": [
        "import pandas as pd\n",
        "df = pd.read_csv(\"NO2.csv\")\n",
        "print(df)"
      ],
      "metadata": {
        "colab": {
          "base_uri": "https://localhost:8080/"
        },
        "id": "cQ8wgP57b2Il",
        "outputId": "19534ebc-f2b0-4eda-d542-35c99ccc81a0"
      },
      "execution_count": 6,
      "outputs": [
        {
          "output_type": "stream",
          "name": "stdout",
          "text": [
            "          Date       NO2  Year     City\n",
            "0    25-Apr-20  0.000074  2020  Bergamo\n",
            "1     5-Apr-20  0.000074  2020  Bergamo\n",
            "2    25-Apr-20  0.000075  2020  Bergamo\n",
            "3    11-Apr-20  0.000076  2020  Bergamo\n",
            "4     4-Apr-20  0.000077  2020  Bergamo\n",
            "..         ...       ...   ...      ...\n",
            "364  19-Feb-19  0.000629  2019    Wuhan\n",
            "365  21-Feb-19  0.000630  2019    Wuhan\n",
            "366   5-Mar-19  0.000711  2019    Wuhan\n",
            "367  24-Feb-19  0.000766  2019    Wuhan\n",
            "368  19-Feb-19  0.000786  2019    Wuhan\n",
            "\n",
            "[369 rows x 4 columns]\n"
          ]
        }
      ]
    },
    {
      "cell_type": "code",
      "source": [
        "import pandas as pd\n",
        "import seaborn as sns\n",
        "sns.displot(df, x=\"NO2\")\n"
      ],
      "metadata": {
        "colab": {
          "base_uri": "https://localhost:8080/",
          "height": 524
        },
        "id": "rtsUgjjfcAwh",
        "outputId": "3f23dea3-1761-478c-81dc-fb58483411c2"
      },
      "execution_count": 7,
      "outputs": [
        {
          "output_type": "execute_result",
          "data": {
            "text/plain": [
              "<seaborn.axisgrid.FacetGrid at 0x79c4724aa250>"
            ]
          },
          "metadata": {},
          "execution_count": 7
        },
        {
          "output_type": "display_data",
          "data": {
            "text/plain": [
              "<Figure size 500x500 with 1 Axes>"
            ],
            "image/png": "[encoded data removed]"
          },
          "metadata": {}
        }
      ]
    },
    {
      "cell_type": "markdown",
      "source": [
        "# Example Usage of For Loop Based on DataFrame\n",
        "\n",
        "This loop iterates over each unique city in the 'City' column, calculates the mean NO2 level for each city, and prints it. This is an example of using a loop to perform a calculation based on the grouped data and can be very handy for preliminary analysis in data science tasks."
      ],
      "metadata": {
        "id": "3MFsvDabcWjf"
      }
    },
    {
      "cell_type": "code",
      "source": [
        "# Calculate and print average NO2 levels for each city using a loop\n",
        "for city in df['City'].unique():\n",
        "    average_no2 = df[df['City'] == city]['NO2'].mean()\n",
        "    print(f\"Average NO2 level for {city}: {average_no2:.6f}\")\n"
      ],
      "metadata": {
        "colab": {
          "base_uri": "https://localhost:8080/"
        },
        "id": "SLOFlrC5c4BV",
        "outputId": "aeb32c73-8cf2-4118-e10d-867c37ae982f"
      },
      "execution_count": 8,
      "outputs": [
        {
          "output_type": "stream",
          "name": "stdout",
          "text": [
            "Average NO2 level for Bergamo: 0.000135\n",
            "Average NO2 level for Madrid: 0.000127\n",
            "Average NO2 level for New Delhi: 0.000146\n",
            "Average NO2 level for New York: 0.000214\n",
            "Average NO2 level for Qom: 0.000143\n",
            "Average NO2 level for Wuhan: 0.000290\n"
          ]
        }
      ]
    },
    {
      "cell_type": "code",
      "source": [],
      "metadata": {
        "id": "e7V_T_K3c3AF"
      },
      "execution_count": null,
      "outputs": []
    },
    {
      "cell_type": "code",
      "source": [],
      "metadata": {
        "id": "y5QK6VidbVlq"
      },
      "execution_count": null,
      "outputs": []
    },
    {
      "cell_type": "markdown",
      "source": [
        "# Example Usage of For While Based on DataFrame\n",
        "Using a while loop for iterating through data in a DataFrame is less common in Python, especially with pandas, because for loops and vectorized operations are more efficient for these tasks.\n",
        "\n",
        "Here’s how you might calculate and print the average NO2 levels for each city using a while loop,` based on your request and the DataFrame structure provided:`\n",
        "\n",
        "Step-by-Step Approach Using a While Loop\n",
        "Extract Unique Cities: First, extract a list of unique cities from the DataFrame.\n",
        "Set up Loop Control Variables: Use an index to track your position in the list of cities.\n",
        "Iterate with the While Loop: Use the index to access each city in the list and calculate the average NO2 level until you've processed all cities."
      ],
      "metadata": {
        "id": "0v6cxBcubPk3"
      }
    },
    {
      "cell_type": "code",
      "source": [
        "import pandas as pd\n",
        "\n",
        "# Assuming df is already loaded as your DataFrame\n",
        "df = pd.read_csv(\"NO2.csv\")  # Make sure your DataFrame is loaded correctly\n",
        "\n",
        "# Get a list of unique cities\n",
        "unique_cities = df['City'].unique()\n",
        "\n",
        "# Initialize index for while loop\n",
        "index = 0\n",
        "\n",
        "# Using a while loop to calculate average NO2 levels for each city\n",
        "while index < len(unique_cities):\n",
        "    city = unique_cities[index]\n",
        "    # Filter df for the current city and calculate mean NO2\n",
        "    mean_no2 = df[df['City'] == city]['NO2'].mean()\n",
        "    print(f\"Average NO2 level for {city}: {mean_no2:.6f}\")\n",
        "\n",
        "    # Increment index to move to the next city\n",
        "    index += 1\n"
      ],
      "metadata": {
        "colab": {
          "base_uri": "https://localhost:8080/"
        },
        "id": "-2vRIyqmd3vi",
        "outputId": "ba67361e-66ba-492a-91da-b110cee031ee"
      },
      "execution_count": 9,
      "outputs": [
        {
          "output_type": "stream",
          "name": "stdout",
          "text": [
            "Average NO2 level for Bergamo: 0.000135\n",
            "Average NO2 level for Madrid: 0.000127\n",
            "Average NO2 level for New Delhi: 0.000146\n",
            "Average NO2 level for New York: 0.000214\n",
            "Average NO2 level for Qom: 0.000143\n",
            "Average NO2 level for Wuhan: 0.000290\n"
          ]
        }
      ]
    },
    {
      "cell_type": "code",
      "source": [],
      "metadata": {
        "id": "4ocxSlPEePIx"
      },
      "execution_count": null,
      "outputs": []
    },
    {
      "cell_type": "markdown",
      "source": [
        "# Example Usage of For Nested Loops Based on DataFrame:\n",
        "\n",
        "A nested loop is a loop inside a loop. It's useful for iterating over each element of multi-dimensional arrays, among other tasks.\n",
        "\n",
        "To demonstrate the use of a nested loop with the DataFrame containing NO2 levels (as seen in your provided data), let's create a scenario where we might want to loop through each year and within each year, through each city, to calculate the average NO2 level for each city-year combination. This is a common task when you need to perform operations on subgrouped data.\n"
      ],
      "metadata": {
        "id": "QhPc-c6KeQGX"
      }
    },
    {
      "cell_type": "code",
      "source": [
        "import pandas as pd\n",
        "\n",
        "# Load the DataFrame\n",
        "df = pd.read_csv(\"NO2.csv\")  # Adjust this as necessary to match your file path and DataFrame\n",
        "\n",
        "# Get unique years and cities from the DataFrame\n",
        "unique_years = df['Year'].unique()\n",
        "unique_cities = df['City'].unique()\n",
        "\n",
        "# Outer loop over years\n",
        "for year in unique_years:\n",
        "    print(f\"\\nYear: {year}\")  # Print the year for clarity in output\n",
        "    # Inner loop over cities\n",
        "    for city in unique_cities:\n",
        "        # Filter df for the current year and city\n",
        "        filtered_df = df[(df['Year'] == year) & (df['City'] == city)]\n",
        "\n",
        "        # Calculate mean NO2 if there are entries for the filter\n",
        "        if not filtered_df.empty:\n",
        "            mean_no2 = filtered_df['NO2'].mean()\n",
        "            print(f\"Average NO2 level for {city} in {year}: {mean_no2:.6f}\")\n",
        "        else:\n",
        "            print(f\"No data for {city} in {year}.\")\n"
      ],
      "metadata": {
        "colab": {
          "base_uri": "https://localhost:8080/"
        },
        "id": "o-IqcksUe0Gt",
        "outputId": "f270f7c2-70bf-4977-9af3-5249dbf86eb8"
      },
      "execution_count": 10,
      "outputs": [
        {
          "output_type": "stream",
          "name": "stdout",
          "text": [
            "\n",
            "Year: 2020\n",
            "Average NO2 level for Bergamo in 2020: 0.000113\n",
            "Average NO2 level for Madrid in 2020: 0.000092\n",
            "Average NO2 level for New Delhi in 2020: 0.000107\n",
            "Average NO2 level for New York in 2020: 0.000168\n",
            "Average NO2 level for Qom in 2020: 0.000124\n",
            "Average NO2 level for Wuhan in 2020: 0.000126\n",
            "\n",
            "Year: 2019\n",
            "Average NO2 level for Bergamo in 2019: 0.000156\n",
            "Average NO2 level for Madrid in 2019: 0.000166\n",
            "Average NO2 level for New Delhi in 2019: 0.000189\n",
            "Average NO2 level for New York in 2019: 0.000257\n",
            "Average NO2 level for Qom in 2019: 0.000159\n",
            "Average NO2 level for Wuhan in 2019: 0.000402\n"
          ]
        }
      ]
    },
    {
      "cell_type": "markdown",
      "source": [
        "# Note on Efficiency\n",
        "While nested loops can be used for such tasks, using groupby operations in pandas can often accomplish the same results more efficiently and with less code. Here's an example of achieving the same result using groupby:"
      ],
      "metadata": {
        "id": "4kAjXu9QfZHD"
      }
    },
    {
      "cell_type": "code",
      "source": [
        "# Using groupby to calculate the mean NO2 levels for each city and year combination\n",
        "grouped_data = df.groupby(['Year', 'City'])['NO2'].mean().reset_index()\n",
        "print(grouped_data)\n"
      ],
      "metadata": {
        "colab": {
          "base_uri": "https://localhost:8080/"
        },
        "id": "SDk1S29lfefD",
        "outputId": "cf0ab8c9-e33e-4bd2-b73d-c4fafa37f2cd"
      },
      "execution_count": 11,
      "outputs": [
        {
          "output_type": "stream",
          "name": "stdout",
          "text": [
            "    Year       City       NO2\n",
            "0   2019    Bergamo  0.000156\n",
            "1   2019     Madrid  0.000166\n",
            "2   2019  New Delhi  0.000189\n",
            "3   2019   New York  0.000257\n",
            "4   2019        Qom  0.000159\n",
            "5   2019      Wuhan  0.000402\n",
            "6   2020    Bergamo  0.000113\n",
            "7   2020     Madrid  0.000092\n",
            "8   2020  New Delhi  0.000107\n",
            "9   2020   New York  0.000168\n",
            "10  2020        Qom  0.000124\n",
            "11  2020      Wuhan  0.000126\n"
          ]
        }
      ]
    },
    {
      "cell_type": "markdown",
      "source": [
        "# Loop Control Statements\n",
        "Loop control statements change the execution of a loop from its normal sequence.\n",
        "\n",
        "Break: Terminate the loop entirely.\n",
        "Continue: Skip the rest of the code inside the loop for the current iteration only.\n",
        "Pass: Does nothing, acts as a placeholder.\n",
        "\n",
        "Loop control statements in Python are used to alter the behavior of loops (like for and while loops). These control statements include break, continue, and pass. Below are practical examples to illustrate how each of these statements can be used:"
      ],
      "metadata": {
        "id": "UrC3n2GbfJea"
      }
    },
    {
      "cell_type": "markdown",
      "source": [
        " Break-The break statement is used to exit a loop prematurely when a certain condition is met. It can be particularly useful in stopping an iteration as soon as a condition that requires termination is satisfied.\n",
        "\n",
        "\n",
        "\n",
        "\n",
        "\n",
        "\n",
        "\n"
      ],
      "metadata": {
        "id": "Ca65mQ0DggVx"
      }
    },
    {
      "cell_type": "code",
      "source": [
        "numbers = [1, 3, 5, 7, 8, 10, 12]\n",
        "for number in numbers:\n",
        "    if number % 2 == 0:\n",
        "        print(f\"First even number found: {number}\")\n",
        "        break  # Exit the loop after the first even number is found\n"
      ],
      "metadata": {
        "colab": {
          "base_uri": "https://localhost:8080/"
        },
        "id": "o-Lv0iN0gV4q",
        "outputId": "30b43d0c-a87b-482d-a327-79736ac5c400"
      },
      "execution_count": 14,
      "outputs": [
        {
          "output_type": "stream",
          "name": "stdout",
          "text": [
            "First even number found: 8\n"
          ]
        }
      ]
    },
    {
      "cell_type": "markdown",
      "source": [
        "Continue-\n",
        "The continue statement is used to skip the rest of the code inside the loop for the current iteration only. The loop does not terminate but continues with the next iteration.\n",
        "\n",
        "Example: Print only odd numbers from a list, skipping even numbers."
      ],
      "metadata": {
        "id": "RjmH19rNg2ya"
      }
    },
    {
      "cell_type": "code",
      "source": [
        "numbers = [1, 2, 3, 4, 5, 6, 7, 8, 9]\n",
        "for number in numbers:\n",
        "    if number % 2 == 0:\n",
        "        continue  # Skip the rest of the loop for even numbers\n",
        "    print(f\"Odd number: {number}\")\n"
      ],
      "metadata": {
        "colab": {
          "base_uri": "https://localhost:8080/"
        },
        "id": "o7I2pBaKhFAC",
        "outputId": "afa98da8-e0e7-43cc-80af-25efe52bc949"
      },
      "execution_count": 15,
      "outputs": [
        {
          "output_type": "stream",
          "name": "stdout",
          "text": [
            "Odd number: 1\n",
            "Odd number: 3\n",
            "Odd number: 5\n",
            "Odd number: 7\n",
            "Odd number: 9\n"
          ]
        }
      ]
    },
    {
      "cell_type": "markdown",
      "source": [
        "Pass-\n",
        "The pass statement is a placeholder. It is used when a statement is required syntactically but you do not want any command or code to execute. The pass is generally used for creating minimal classes, functions, and loops.\n",
        "\n",
        "Example: Iterate over a list and use pass in a conditionally empty block."
      ],
      "metadata": {
        "id": "VB4YuJHqhQx8"
      }
    },
    {
      "cell_type": "code",
      "source": [
        "numbers = [1, 2, 3, 4, 5]\n",
        "for number in numbers:\n",
        "    if number % 2 == 0:\n",
        "        pass  # Do nothing for even numbers\n",
        "    else:\n",
        "        print(f\"Processed number: {number}\")"
      ],
      "metadata": {
        "colab": {
          "base_uri": "https://localhost:8080/"
        },
        "id": "uC-cmJQdhWdJ",
        "outputId": "4d377f45-3108-4d72-c893-59ee1b201479"
      },
      "execution_count": 16,
      "outputs": [
        {
          "output_type": "stream",
          "name": "stdout",
          "text": [
            "Processed number: 1\n",
            "Processed number: 3\n",
            "Processed number: 5\n"
          ]
        }
      ]
    },
    {
      "cell_type": "markdown",
      "source": [
        "Real-World Use Case with DataFrame\n",
        "Suppose you are processing a DataFrame and want to apply some checks or filters. You can use loop control statements to manage the flow of your data processing loop.\n",
        "\n",
        "Example: Process a DataFrame and skip rows with missing values in a specific column."
      ],
      "metadata": {
        "id": "ZPN9sVcPhcuh"
      }
    },
    {
      "cell_type": "code",
      "source": [
        "import pandas as pd\n",
        "\n",
        "# Sample DataFrame\n",
        "data = {\n",
        "    'Name': ['Alice', 'Bob', None, 'Diana', 'Eve'],\n",
        "    'Age': [25, None, 35, 28, 22]\n",
        "}\n",
        "df = pd.DataFrame(data)\n",
        "\n",
        "# Loop through each row in DataFrame\n",
        "for index, row in df.iterrows():\n",
        "    if pd.isnull(row['Age']):\n",
        "        continue  # Skip rows where the 'Age' is NaN\n",
        "    print(f\"Processing {row['Name']} with age {row['Age']}\")\n"
      ],
      "metadata": {
        "colab": {
          "base_uri": "https://localhost:8080/"
        },
        "id": "dostQyuzheZn",
        "outputId": "6fee5333-1259-4a4a-8acd-358cb628f9f7"
      },
      "execution_count": 17,
      "outputs": [
        {
          "output_type": "stream",
          "name": "stdout",
          "text": [
            "Processing Alice with age 25.0\n",
            "Processing None with age 35.0\n",
            "Processing Diana with age 28.0\n",
            "Processing Eve with age 22.0\n"
          ]
        }
      ]
    },
    {
      "cell_type": "markdown",
      "source": [
        "Setup: NO2 DataFrame Example\n",
        "Let's assume the DataFrame df contains columns for Date, NO2, Year, City, and we want to perform various tasks based on specific conditions using loop controls.\n"
      ],
      "metadata": {
        "id": "3_O13PCyhiqv"
      }
    },
    {
      "cell_type": "code",
      "source": [
        "import pandas as pd\n",
        "\n",
        "# Simulated DataFrame based on your earlier description\n",
        "data = {\n",
        "    'Date': ['25-Apr-20', '5-Apr-20', '25-Apr-20', '11-Apr-20', '4-Apr-20', '19-Feb-19', '21-Feb-19'],\n",
        "    'NO2': [0.000074, 0.000074, 0.000075, 0.000076, 0.000077, 0.000629, 0.000630],\n",
        "    'Year': [2020, 2020, 2020, 2020, 2020, 2019, 2019],\n",
        "    'City': ['Bergamo', 'Bergamo', 'Bergamo', 'Bergamo', 'Bergamo', 'Wuhan', 'Wuhan']\n",
        "}\n",
        "df = pd.DataFrame(data)\n",
        "\n",
        "# Assume we want to stop processing as soon as we encounter data from the year 2019\n",
        "for index, row in df.iterrows():\n",
        "    if row['Year'] == 2019:\n",
        "        print(f\"Stopped processing at first occurrence of year 2019 for city {row['City']}.\")\n",
        "        break  # Break the loop when year 2019 is encountered\n",
        "\n",
        "# Skip processing rows with NO2 levels below a threshold (e.g., below 0.000075)\n",
        "print(\"\\nProcessing entries with sufficient NO2 levels:\")\n",
        "for index, row in df.iterrows():\n",
        "    if row['NO2'] < 0.000075:\n",
        "        continue  # Skip the rest of the loop for low NO2 levels\n",
        "    print(f\"Date: {row['Date']}, City: {row['City']}, NO2: {row['NO2']}\")\n",
        "\n",
        "# Use 'pass' in an example where we might check for another condition but do nothing\n",
        "print(\"\\nChecking for specific city but taking no action:\")\n",
        "for index, row in df.iterrows():\n",
        "    if row['City'] == 'Wuhan':\n",
        "        pass  # Intentionally do nothing for Wuhan\n",
        "    else:\n",
        "        print(f\"Processing data from city other than Wuhan: {row['City']}, Date: {row['Date']}, NO2: {row['NO2']}\")\n"
      ],
      "metadata": {
        "colab": {
          "base_uri": "https://localhost:8080/"
        },
        "id": "q-S_kHT2hpwx",
        "outputId": "42bef302-7d23-4edc-dce6-b4a8d999b821"
      },
      "execution_count": 18,
      "outputs": [
        {
          "output_type": "stream",
          "name": "stdout",
          "text": [
            "Stopped processing at first occurrence of year 2019 for city Wuhan.\n",
            "\n",
            "Processing entries with sufficient NO2 levels:\n",
            "Date: 25-Apr-20, City: Bergamo, NO2: 7.5e-05\n",
            "Date: 11-Apr-20, City: Bergamo, NO2: 7.6e-05\n",
            "Date: 4-Apr-20, City: Bergamo, NO2: 7.7e-05\n",
            "Date: 19-Feb-19, City: Wuhan, NO2: 0.000629\n",
            "Date: 21-Feb-19, City: Wuhan, NO2: 0.00063\n",
            "\n",
            "Checking for specific city but taking no action:\n",
            "Processing data from city other than Wuhan: Bergamo, Date: 25-Apr-20, NO2: 7.4e-05\n",
            "Processing data from city other than Wuhan: Bergamo, Date: 5-Apr-20, NO2: 7.4e-05\n",
            "Processing data from city other than Wuhan: Bergamo, Date: 25-Apr-20, NO2: 7.5e-05\n",
            "Processing data from city other than Wuhan: Bergamo, Date: 11-Apr-20, NO2: 7.6e-05\n",
            "Processing data from city other than Wuhan: Bergamo, Date: 4-Apr-20, NO2: 7.7e-05\n"
          ]
        }
      ]
    },
    {
      "cell_type": "code",
      "source": [
        "# #df = pd.DataFrame(data)\n",
        "\n",
        "# # Assume we want to stop processing as soon as we encounter data from the year 2019\n",
        "# for index, row in df.iterrows():\n",
        "#     if row['Year'] == 2019:\n",
        "#         print(f\"Stopped processing at first occurrence of year 2019 for city {row['City']}.\")\n",
        "#         break  # Break the loop when year 2019 is encountered\n",
        "\n",
        "# # Skip processing rows with NO2 levels below a threshold (e.g., below 0.000075)\n",
        "# print(\"\\nProcessing entries with sufficient NO2 levels:\")\n",
        "# for index, row in df.iterrows():\n",
        "#     if row['NO2'] < 0.000075:\n",
        "#         continue  # Skip the rest of the loop for low NO2 levels\n",
        "#     print(f\"Date: {row['Date']}, City: {row['City']}, NO2: {row['NO2']}\")\n",
        "\n",
        "# # Use 'pass' in an example where we might check for another condition but do nothing\n",
        "# print(\"\\nChecking for specific city but taking no action:\")\n",
        "# for index, row in df.iterrows():\n",
        "#     if row['City'] == 'Wuhan':\n",
        "#         pass  # Intentionally do nothing for Wuhan\n",
        "#     else:\n",
        "#         print(f\"Processing data from city other than Wuhan: {row['City']}, Date: {row['Date']}, NO2: {row['NO2']}\")"
      ],
      "metadata": {
        "id": "CDJe62dwfMme"
      },
      "execution_count": 26,
      "outputs": []
    },
    {
      "cell_type": "markdown",
      "source": [
        "# 1. if/else (Conditional Statements)\n"
      ],
      "metadata": {
        "id": "OR02SefOoG9S"
      }
    },
    {
      "cell_type": "code",
      "source": [
        "age = 20\n",
        "if age >= 18:\n",
        "    print(\"You are an adult.\")\n",
        "else:\n",
        "    print(\"You are not an adult.\")\n"
      ],
      "metadata": {
        "id": "sc4bDb20oK0J"
      },
      "execution_count": null,
      "outputs": []
    },
    {
      "cell_type": "markdown",
      "source": [
        "# 2. for/while (Looping Structures)\n",
        "These keywords are used to repeat a block of code multiple times.\n",
        "\n",
        "Example for 'for' loop:"
      ],
      "metadata": {
        "id": "mgU8LIoToNs3"
      }
    },
    {
      "cell_type": "code",
      "source": [
        "for i in range(5):\n",
        "    print(i)\n"
      ],
      "metadata": {
        "id": "ccLEjHDkoUBM"
      },
      "execution_count": null,
      "outputs": []
    },
    {
      "cell_type": "markdown",
      "source": [
        "# Example for 'while' loop:"
      ],
      "metadata": {
        "id": "KdPLjQjqociO"
      }
    },
    {
      "cell_type": "code",
      "source": [
        "count = 5\n",
        "while count > 0:\n",
        "    print(count)\n",
        "    count -= 1\n"
      ],
      "metadata": {
        "colab": {
          "base_uri": "https://localhost:8080/"
        },
        "id": "p-T_67ktoYGu",
        "outputId": "d8ada462-7587-4ad5-d9f8-2e70886313b1"
      },
      "execution_count": 19,
      "outputs": [
        {
          "output_type": "stream",
          "name": "stdout",
          "text": [
            "5\n",
            "4\n",
            "3\n",
            "2\n",
            "1\n"
          ]
        }
      ]
    },
    {
      "cell_type": "markdown",
      "source": [
        "# def/class (Function/Object Definition)\n",
        "These keywords are used for defining functions and classes.\n",
        "\n",
        "Example for 'def' (Function Definition):"
      ],
      "metadata": {
        "id": "9P7oWk7Zontx"
      }
    },
    {
      "cell_type": "code",
      "source": [
        "def greet(name):\n",
        "    print(f\"Hello, {name}!\")\n",
        "greet('Alice')\n"
      ],
      "metadata": {
        "colab": {
          "base_uri": "https://localhost:8080/"
        },
        "id": "Dz_ul4O5opO6",
        "outputId": "b9acc72f-e2d7-45fa-aa80-13fedf5e9ab1"
      },
      "execution_count": 20,
      "outputs": [
        {
          "output_type": "stream",
          "name": "stdout",
          "text": [
            "Hello, Alice!\n"
          ]
        }
      ]
    },
    {
      "cell_type": "markdown",
      "source": [
        "# Example for 'class' (Object Definition):\n"
      ],
      "metadata": {
        "id": "G71R8V5ho0wu"
      }
    },
    {
      "cell_type": "code",
      "source": [
        "class Car:\n",
        "    def __init__(self, make, model):\n",
        "        self.make = make\n",
        "        self.model = model\n",
        "\n",
        "    def display_info(self):\n",
        "        print(f\"This car is a {self.make} {self.model}.\")\n",
        "\n",
        "my_car = Car(\"Toyota\", \"Corolla\")\n",
        "my_car.display_info()\n"
      ],
      "metadata": {
        "colab": {
          "base_uri": "https://localhost:8080/"
        },
        "id": "lnCmpcDAouPr",
        "outputId": "20972287-78e1-4dc0-bc7d-df76ee85e333"
      },
      "execution_count": 21,
      "outputs": [
        {
          "output_type": "stream",
          "name": "stdout",
          "text": [
            "This car is a Toyota Corolla.\n"
          ]
        }
      ]
    },
    {
      "cell_type": "markdown",
      "source": [],
      "metadata": {
        "id": "RaQ2_RLUo0Qr"
      }
    },
    {
      "cell_type": "markdown",
      "source": [
        "# Keywords for Imports and More (import, return)\n",
        "These keywords are crucial for bringing in modules and returning values from functions.\n",
        "\n",
        "Example for 'import':"
      ],
      "metadata": {
        "id": "m4-LaLOEo7sU"
      }
    },
    {
      "cell_type": "code",
      "source": [
        "import math\n",
        "print(math.sqrt(16))  # Outputs: 4.0\n"
      ],
      "metadata": {
        "colab": {
          "base_uri": "https://localhost:8080/"
        },
        "id": "b-hUNR7npA8i",
        "outputId": "fb17c3d1-7515-4146-d341-7899760fc046"
      },
      "execution_count": 24,
      "outputs": [
        {
          "output_type": "stream",
          "name": "stdout",
          "text": [
            "4.0\n"
          ]
        }
      ]
    },
    {
      "cell_type": "markdown",
      "source": [
        "# Example for 'return' in a function:\n"
      ],
      "metadata": {
        "id": "iwsUcXt5pEph"
      }
    },
    {
      "cell_type": "code",
      "source": [
        "def add_numbers(a, b):\n",
        "    return a + b\n",
        "\n",
        "result = add_numbers(5, 3)\n",
        "print(result)  # Outputs: 8\n"
      ],
      "metadata": {
        "colab": {
          "base_uri": "https://localhost:8080/"
        },
        "id": "2JgELTE7pPvb",
        "outputId": "4010c90f-5568-41bb-97f4-fa1234b879d9"
      },
      "execution_count": 25,
      "outputs": [
        {
          "output_type": "stream",
          "name": "stdout",
          "text": [
            "8\n"
          ]
        }
      ]
    }
  ]
}