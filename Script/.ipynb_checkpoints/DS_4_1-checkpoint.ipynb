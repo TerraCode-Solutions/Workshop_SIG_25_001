{
  "nbformat": 4,
  "nbformat_minor": 0,
  "metadata": {
    "colab": {
      "provenance": [],
      "toc_visible": true
    },
    "kernelspec": {
      "name": "python3",
      "display_name": "Python 3"
    }
  },
  "cells": [
    {
      "cell_type": "markdown",
      "metadata": {
        "id": "i7roBHke4BYu"
      },
      "source": []
    },
    {
      "cell_type": "code",
      "metadata": {
        "id": "HFiIfHEI4Anc",
        "colab": {
          "base_uri": "https://localhost:8080/"
        },
        "outputId": "3ceccae8-98dd-448e-d3f0-b1674cca5149"
      },
      "source": [
        "from google.colab import drive\n",
        "drive.mount('/content/drive', force_remount=True)"
      ],
      "execution_count": null,
      "outputs": [
        {
          "output_type": "stream",
          "text": [
            "Mounted at /content/drive\n"
          ],
          "name": "stdout"
        }
      ]
    },
    {
      "cell_type": "code",
      "metadata": {
        "colab": {
          "base_uri": "https://localhost:8080/"
        },
        "id": "_nIU2uRD4Wl3",
        "outputId": "c19bfd6e-cd77-4486-b03c-fd2cb5012de2"
      },
      "source": [
        "import os\n",
        "os.chdir('/content/drive/MyDrive/Data_Science/')\n",
        "!pwd"
      ],
      "execution_count": null,
      "outputs": [
        {
          "output_type": "stream",
          "text": [
            "/content/drive/MyDrive/Data_Science\n"
          ],
          "name": "stdout"
        }
      ]
    },
    {
      "cell_type": "markdown",
      "metadata": {
        "id": "39PU7aS9o-mg"
      },
      "source": [
        "Plotting histograms\n",
        "\n",
        "---\n",
        "\n"
      ]
    },
    {
      "cell_type": "code",
      "metadata": {
        "colab": {
          "base_uri": "https://localhost:8080/",
          "height": 633
        },
        "id": "Ug682rp4pH3E",
        "outputId": "848aa56f-4c86-464e-b2ef-02e1b14c1044"
      },
      "source": [
        "import pandas as pd\n",
        "import seaborn as sns\n",
        "df = pd.read_csv(\"NO2.csv\")\n",
        "print(df)\n",
        "sns.displot(df, x=\"NO2\")"
      ],
      "execution_count": null,
      "outputs": [
        {
          "output_type": "stream",
          "text": [
            "          Date       NO2  Year     City\n",
            "0    25-Apr-20  0.000074  2020  Bergamo\n",
            "1     5-Apr-20  0.000074  2020  Bergamo\n",
            "2    25-Apr-20  0.000075  2020  Bergamo\n",
            "3    11-Apr-20  0.000076  2020  Bergamo\n",
            "4     4-Apr-20  0.000077  2020  Bergamo\n",
            "..         ...       ...   ...      ...\n",
            "364  19-Feb-19  0.000629  2019    Wuhan\n",
            "365  21-Feb-19  0.000630  2019    Wuhan\n",
            "366   5-Mar-19  0.000711  2019    Wuhan\n",
            "367  24-Feb-19  0.000766  2019    Wuhan\n",
            "368  19-Feb-19  0.000786  2019    Wuhan\n",
            "\n",
            "[369 rows x 4 columns]\n"
          ],
          "name": "stdout"
        },
        {
          "output_type": "execute_result",
          "data": {
            "text/plain": [
              "<seaborn.axisgrid.FacetGrid at 0x7f6206650c18>"
            ]
          },
          "metadata": {
            "tags": []
          },
          "execution_count": 4
        },
        {
          "output_type": "display_data",
          "data": {
            "image/png": "[encoded data removed]",
            "text/plain": [
              "<Figure size 360x360 with 1 Axes>"
            ]
          },
          "metadata": {
            "tags": [],
            "needs_background": "light"
          }
        }
      ]
    },
    {
      "cell_type": "markdown",
      "metadata": {
        "id": "kHDznYImp1Zt"
      },
      "source": [
        "**Kernel density estimation**\n",
        "\n",
        "-"
      ]
    },
    {
      "cell_type": "code",
      "metadata": {
        "colab": {
          "base_uri": "https://localhost:8080/",
          "height": 633
        },
        "id": "yYXEEpV2rEh3",
        "outputId": "94e43f23-9e40-473d-eef4-c27873e49d0c"
      },
      "source": [
        "import pandas as pd\n",
        "import seaborn as sns\n",
        "df = pd.read_csv(\"NO2.csv\")\n",
        "print(df)\n",
        "sns.displot(df, x=\"NO2\", kind=\"kde\")"
      ],
      "execution_count": null,
      "outputs": [
        {
          "output_type": "stream",
          "text": [
            "          Date       NO2  Year     City\n",
            "0    25-Apr-20  0.000074  2020  Bergamo\n",
            "1     5-Apr-20  0.000074  2020  Bergamo\n",
            "2    25-Apr-20  0.000075  2020  Bergamo\n",
            "3    11-Apr-20  0.000076  2020  Bergamo\n",
            "4     4-Apr-20  0.000077  2020  Bergamo\n",
            "..         ...       ...   ...      ...\n",
            "364  19-Feb-19  0.000629  2019    Wuhan\n",
            "365  21-Feb-19  0.000630  2019    Wuhan\n",
            "366   5-Mar-19  0.000711  2019    Wuhan\n",
            "367  24-Feb-19  0.000766  2019    Wuhan\n",
            "368  19-Feb-19  0.000786  2019    Wuhan\n",
            "\n",
            "[369 rows x 4 columns]\n"
          ],
          "name": "stdout"
        },
        {
          "output_type": "execute_result",
          "data": {
            "text/plain": [
              "<seaborn.axisgrid.FacetGrid at 0x7fe8ee895dd8>"
            ]
          },
          "metadata": {
            "tags": []
          },
          "execution_count": 15
        },
        {
          "output_type": "display_data",
          "data": {
            "image/png": "[encoded data removed]",
            "text/plain": [
              "<Figure size 360x360 with 1 Axes>"
            ]
          },
          "metadata": {
            "tags": [],
            "needs_background": "light"
          }
        }
      ]
    },
    {
      "cell_type": "code",
      "metadata": {
        "colab": {
          "base_uri": "https://localhost:8080/",
          "height": 633
        },
        "id": "xl-9iCkjp-Te",
        "outputId": "fb059e5d-c382-4f7d-93cd-1f59bf8ce21b"
      },
      "source": [
        "import pandas as pd\n",
        "import seaborn as sns\n",
        "df = pd.read_csv(\"NO2.csv\")\n",
        "print(df)\n",
        "sns.displot(df, x=\"NO2\", bins=20)"
      ],
      "execution_count": null,
      "outputs": [
        {
          "output_type": "stream",
          "text": [
            "          Date       NO2  Year     City\n",
            "0    25-Apr-20  0.000074  2020  Bergamo\n",
            "1     5-Apr-20  0.000074  2020  Bergamo\n",
            "2    25-Apr-20  0.000075  2020  Bergamo\n",
            "3    11-Apr-20  0.000076  2020  Bergamo\n",
            "4     4-Apr-20  0.000077  2020  Bergamo\n",
            "..         ...       ...   ...      ...\n",
            "364  19-Feb-19  0.000629  2019    Wuhan\n",
            "365  21-Feb-19  0.000630  2019    Wuhan\n",
            "366   5-Mar-19  0.000711  2019    Wuhan\n",
            "367  24-Feb-19  0.000766  2019    Wuhan\n",
            "368  19-Feb-19  0.000786  2019    Wuhan\n",
            "\n",
            "[369 rows x 4 columns]\n"
          ],
          "name": "stdout"
        },
        {
          "output_type": "execute_result",
          "data": {
            "text/plain": [
              "<seaborn.axisgrid.FacetGrid at 0x7f61cc3c5710>"
            ]
          },
          "metadata": {
            "tags": []
          },
          "execution_count": 8
        },
        {
          "output_type": "display_data",
          "data": {
            "image/png": "[encoded data removed]",
            "text/plain": [
              "<Figure size 360x360 with 1 Axes>"
            ]
          },
          "metadata": {
            "tags": [],
            "needs_background": "light"
          }
        }
      ]
    },
    {
      "cell_type": "code",
      "metadata": {
        "id": "OavwINyusnw9"
      },
      "source": [],
      "execution_count": null,
      "outputs": []
    },
    {
      "cell_type": "code",
      "metadata": {
        "colab": {
          "base_uri": "https://localhost:8080/",
          "height": 633
        },
        "id": "1sOStXbw4hU5",
        "outputId": "29cbd27a-c516-4bce-b426-1cb688d4961a"
      },
      "source": [
        "import pandas as pd\n",
        "import seaborn as sns\n",
        "df = pd.read_csv(\"NO2.csv\")\n",
        "print(df)\n",
        "sns.displot(df, x=\"NO2\", kind=\"kde\", bw_adjust=2)     # kernel density function"
      ],
      "execution_count": null,
      "outputs": [
        {
          "output_type": "stream",
          "text": [
            "          Date       NO2  Year     City\n",
            "0    25-Apr-20  0.000074  2020  Bergamo\n",
            "1     5-Apr-20  0.000074  2020  Bergamo\n",
            "2    25-Apr-20  0.000075  2020  Bergamo\n",
            "3    11-Apr-20  0.000076  2020  Bergamo\n",
            "4     4-Apr-20  0.000077  2020  Bergamo\n",
            "..         ...       ...   ...      ...\n",
            "364  19-Feb-19  0.000629  2019    Wuhan\n",
            "365  21-Feb-19  0.000630  2019    Wuhan\n",
            "366   5-Mar-19  0.000711  2019    Wuhan\n",
            "367  24-Feb-19  0.000766  2019    Wuhan\n",
            "368  19-Feb-19  0.000786  2019    Wuhan\n",
            "\n",
            "[369 rows x 4 columns]\n"
          ],
          "name": "stdout"
        },
        {
          "output_type": "execute_result",
          "data": {
            "text/plain": [
              "<seaborn.axisgrid.FacetGrid at 0x7f115ee9b4a8>"
            ]
          },
          "metadata": {
            "tags": []
          },
          "execution_count": 4
        },
        {
          "output_type": "display_data",
          "data": {
            "image/png": "[encoded data removed]",
            "text/plain": [
              "<Figure size 360x360 with 1 Axes>"
            ]
          },
          "metadata": {
            "tags": [],
            "needs_background": "light"
          }
        }
      ]
    },
    {
      "cell_type": "markdown",
      "metadata": {
        "id": "avDsjg6T4ixv"
      },
      "source": [
        "# 1. Uniform Distribution"
      ]
    },
    {
      "cell_type": "code",
      "metadata": {
        "colab": {
          "base_uri": "https://localhost:8080/",
          "height": 352
        },
        "id": "g70KybzM4yUH",
        "outputId": "0896550d-ab82-47b7-8781-5b8ed09547ca"
      },
      "source": [
        "from scipy.stats import uniform\n",
        "import seaborn as sns\n",
        "\n",
        "n = 10000\n",
        "start = 10\n",
        "width = 20\n",
        "data_uniform = uniform.rvs(size=n, loc = start, scale=width)\n",
        "ax = sns.distplot(data_uniform,\n",
        "                  bins=500,\n",
        "                  kde=True,\n",
        "                  color='red',\n",
        "                  hist_kws={\"linewidth\": 10,'alpha':0.5})    #alpha for color\n",
        "ax.set(xlabel='Uniform Distribution ', ylabel='Frequency')"
      ],
      "execution_count": null,
      "outputs": [
        {
          "output_type": "stream",
          "text": [
            "/usr/local/lib/python3.6/dist-packages/seaborn/distributions.py:2557: FutureWarning: `distplot` is a deprecated function and will be removed in a future version. Please adapt your code to use either `displot` (a figure-level function with similar flexibility) or `histplot` (an axes-level function for histograms).\n",
            "  warnings.warn(msg, FutureWarning)\n"
          ],
          "name": "stderr"
        },
        {
          "output_type": "execute_result",
          "data": {
            "text/plain": [
              "[Text(0, 0.5, 'Frequency'), Text(0.5, 0, 'Uniform Distribution ')]"
            ]
          },
          "metadata": {
            "tags": []
          },
          "execution_count": 5
        },
        {
          "output_type": "display_data",
          "data": {
            "image/png": "[encoded data removed]",
            "text/plain": [
              "<Figure size 432x288 with 1 Axes>"
            ]
          },
          "metadata": {
            "tags": [],
            "needs_background": "light"
          }
        }
      ]
    },
    {
      "cell_type": "markdown",
      "metadata": {
        "id": "7QAW4vO55Si_"
      },
      "source": [
        "# 2. Normal Distribution"
      ]
    },
    {
      "cell_type": "code",
      "metadata": {
        "id": "jDzG02kUp5r7"
      },
      "source": [],
      "execution_count": null,
      "outputs": []
    },
    {
      "cell_type": "code",
      "metadata": {
        "colab": {
          "base_uri": "https://localhost:8080/",
          "height": 352
        },
        "id": "XpdBtiuh5XbY",
        "outputId": "566764d2-c27d-4edc-ac9d-c1b2895924fb"
      },
      "source": [
        "from scipy.stats import norm\n",
        "data_normal = norm.rvs(size=10000,loc=0,scale=1)          #loc correspond to mean, scale corresponds to standard deviation and size to the number of random variates\n",
        "\n",
        "ax = sns.distplot(data_normal,\n",
        "                  bins=100,\n",
        "                  kde=True,\n",
        "                  color='red',\n",
        "                  hist_kws={\"linewidth\": 15,'alpha':0.2})\n",
        "ax.set(xlabel='Normal Distribution', ylabel='Frequency')"
      ],
      "execution_count": null,
      "outputs": [
        {
          "output_type": "stream",
          "text": [
            "/usr/local/lib/python3.6/dist-packages/seaborn/distributions.py:2557: FutureWarning: `distplot` is a deprecated function and will be removed in a future version. Please adapt your code to use either `displot` (a figure-level function with similar flexibility) or `histplot` (an axes-level function for histograms).\n",
            "  warnings.warn(msg, FutureWarning)\n"
          ],
          "name": "stderr"
        },
        {
          "output_type": "execute_result",
          "data": {
            "text/plain": [
              "[Text(0, 0.5, 'Frequency'), Text(0.5, 0, 'Normal Distribution')]"
            ]
          },
          "metadata": {
            "tags": []
          },
          "execution_count": 6
        },
        {
          "output_type": "display_data",
          "data": {
            "image/png": "[encoded data removed]",
            "text/plain": [
              "<Figure size 432x288 with 1 Axes>"
            ]
          },
          "metadata": {
            "tags": [],
            "needs_background": "light"
          }
        }
      ]
    },
    {
      "cell_type": "markdown",
      "metadata": {
        "id": "ccDw2K7z5lMt"
      },
      "source": [
        "# 3. Gamma Distribution"
      ]
    },
    {
      "cell_type": "code",
      "metadata": {
        "colab": {
          "base_uri": "https://localhost:8080/",
          "height": 352
        },
        "id": "ZZB5KRdL5mAz",
        "outputId": "50f63257-e30a-4eb5-e8c2-f37e18757688"
      },
      "source": [
        "from scipy.stats import gamma                #The gamma distribution is a two-parameter family of continuous probability distributions.\n",
        "                                             #When a is an integer, gamma reduces to the Erlang distribution, and when a=1 to the exponential distribution.\n",
        "data_gamma = gamma.rvs(a=5, size=100000)\n",
        "\n",
        "ax = sns.distplot(data_gamma,\n",
        "                  kde=True,\n",
        "                  bins=500,\n",
        "                  color='green',\n",
        "                  hist_kws={\"linewidth\": 15,'alpha':0.2})\n",
        "ax.set(xlabel='Gamma Distribution', ylabel='Frequency')"
      ],
      "execution_count": null,
      "outputs": [
        {
          "output_type": "stream",
          "text": [
            "/usr/local/lib/python3.6/dist-packages/seaborn/distributions.py:2557: FutureWarning: `distplot` is a deprecated function and will be removed in a future version. Please adapt your code to use either `displot` (a figure-level function with similar flexibility) or `histplot` (an axes-level function for histograms).\n",
            "  warnings.warn(msg, FutureWarning)\n"
          ],
          "name": "stderr"
        },
        {
          "output_type": "execute_result",
          "data": {
            "text/plain": [
              "[Text(0, 0.5, 'Frequency'), Text(0.5, 0, 'Gamma Distribution')]"
            ]
          },
          "metadata": {
            "tags": []
          },
          "execution_count": 9
        },
        {
          "output_type": "display_data",
          "data": {
            "image/png": "[encoded data removed]",
            "text/plain": [
              "<Figure size 432x288 with 1 Axes>"
            ]
          },
          "metadata": {
            "tags": [],
            "needs_background": "light"
          }
        }
      ]
    },
    {
      "cell_type": "markdown",
      "metadata": {
        "id": "f5HpQxZq51v_"
      },
      "source": [
        "# 4. Exponential Distribution"
      ]
    },
    {
      "cell_type": "code",
      "metadata": {
        "colab": {
          "base_uri": "https://localhost:8080/",
          "height": 355
        },
        "id": "fTSFijev52xG",
        "outputId": "14056253-83dc-4f30-ec87-5ffeddd76324"
      },
      "source": [
        "from scipy.stats import expon\n",
        "data_expon = expon.rvs(scale=1,loc=0,size=5000)\n",
        "\n",
        "ax = sns.distplot(data_expon,\n",
        "                  kde=True,\n",
        "                  bins=100,\n",
        "                  color='turquoise',\n",
        "                  hist_kws={\"linewidth\": 15,'alpha':0.2})\n",
        "ax.set(xlabel='Exponential Distribution', ylabel='Frequency')"
      ],
      "execution_count": null,
      "outputs": [
        {
          "output_type": "stream",
          "text": [
            "/usr/local/lib/python3.6/dist-packages/seaborn/distributions.py:2557: FutureWarning: `distplot` is a deprecated function and will be removed in a future version. Please adapt your code to use either `displot` (a figure-level function with similar flexibility) or `histplot` (an axes-level function for histograms).\n",
            "  warnings.warn(msg, FutureWarning)\n"
          ],
          "name": "stderr"
        },
        {
          "output_type": "execute_result",
          "data": {
            "text/plain": [
              "[Text(0, 0.5, 'Frequency'), Text(0.5, 0, 'Exponential Distribution')]"
            ]
          },
          "metadata": {
            "tags": []
          },
          "execution_count": 10
        },
        {
          "output_type": "display_data",
          "data": {
            "image/png": "[encoded data removed]",
            "text/plain": [
              "<Figure size 432x288 with 1 Axes>"
            ]
          },
          "metadata": {
            "tags": [],
            "needs_background": "light"
          }
        }
      ]
    },
    {
      "cell_type": "markdown",
      "metadata": {
        "id": "w6NT2iQy6MMB"
      },
      "source": [
        "# 5. Poisson Distribution"
      ]
    },
    {
      "cell_type": "code",
      "metadata": {
        "colab": {
          "base_uri": "https://localhost:8080/",
          "height": 352
        },
        "id": "xuGS2ug_6NIP",
        "outputId": "cd6b37e2-85e6-4ce2-e0e3-05dee891dd85"
      },
      "source": [
        "from scipy.stats import poisson\n",
        "data_poisson = poisson.rvs(mu=3, size=50000)          #μ  as a shape parameter and is nothing but the λ in the equation original\n",
        "ax = sns.distplot(data_poisson,\n",
        "                  bins=15,\n",
        "                  kde=False,\n",
        "                  color='magenta',\n",
        "                  hist_kws={\"linewidth\": 15,'alpha':0.2})\n",
        "ax.set(xlabel='Poisson Distribution', ylabel='Frequency')"
      ],
      "execution_count": null,
      "outputs": [
        {
          "output_type": "stream",
          "text": [
            "/usr/local/lib/python3.6/dist-packages/seaborn/distributions.py:2557: FutureWarning: `distplot` is a deprecated function and will be removed in a future version. Please adapt your code to use either `displot` (a figure-level function with similar flexibility) or `histplot` (an axes-level function for histograms).\n",
            "  warnings.warn(msg, FutureWarning)\n"
          ],
          "name": "stderr"
        },
        {
          "output_type": "execute_result",
          "data": {
            "text/plain": [
              "[Text(0, 0.5, 'Frequency'), Text(0.5, 0, 'Poisson Distribution')]"
            ]
          },
          "metadata": {
            "tags": []
          },
          "execution_count": 11
        },
        {
          "output_type": "display_data",
          "data": {
            "image/png": "[encoded data removed]",
            "text/plain": [
              "<Figure size 432x288 with 1 Axes>"
            ]
          },
          "metadata": {
            "tags": [],
            "needs_background": "light"
          }
        }
      ]
    },
    {
      "cell_type": "markdown",
      "metadata": {
        "id": "tLvy1gU16pxq"
      },
      "source": [
        "# 6. Binomial Distribution"
      ]
    },
    {
      "cell_type": "code",
      "metadata": {
        "colab": {
          "base_uri": "https://localhost:8080/",
          "height": 352
        },
        "id": "2zgk0SBC6qsO",
        "outputId": "018ad41d-a1aa-4182-98f0-41f08b21d1ea"
      },
      "source": [
        "from scipy.stats import binom\n",
        "data_binom = binom.rvs(n=10,p=0.8,size=10000)               # p prob of success, n number of trials\n",
        "\n",
        "ax = sns.distplot(data_binom,\n",
        "                  kde=False,\n",
        "                  color='black',\n",
        "                  hist_kws={\"linewidth\": 15,'alpha':1})\n",
        "ax.set(xlabel='Binomial Distribution', ylabel='Frequency')"
      ],
      "execution_count": null,
      "outputs": [
        {
          "output_type": "stream",
          "text": [
            "/usr/local/lib/python3.6/dist-packages/seaborn/distributions.py:2557: FutureWarning: `distplot` is a deprecated function and will be removed in a future version. Please adapt your code to use either `displot` (a figure-level function with similar flexibility) or `histplot` (an axes-level function for histograms).\n",
            "  warnings.warn(msg, FutureWarning)\n"
          ],
          "name": "stderr"
        },
        {
          "output_type": "execute_result",
          "data": {
            "text/plain": [
              "[Text(0, 0.5, 'Frequency'), Text(0.5, 0, 'Binomial Distribution')]"
            ]
          },
          "metadata": {
            "tags": []
          },
          "execution_count": 12
        },
        {
          "output_type": "display_data",
          "data": {
            "image/png": "[encoded data removed]",
            "text/plain": [
              "<Figure size 432x288 with 1 Axes>"
            ]
          },
          "metadata": {
            "tags": [],
            "needs_background": "light"
          }
        }
      ]
    },
    {
      "cell_type": "code",
      "metadata": {
        "id": "vhsTIAK_sHa_"
      },
      "source": [],
      "execution_count": null,
      "outputs": []
    }
  ]
}