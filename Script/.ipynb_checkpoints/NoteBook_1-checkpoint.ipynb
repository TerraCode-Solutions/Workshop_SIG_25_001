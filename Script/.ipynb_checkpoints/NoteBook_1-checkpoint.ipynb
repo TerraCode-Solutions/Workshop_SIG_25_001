{
 "cells": [
  {
   "cell_type": "markdown",
   "id": "459ee927-b933-47ae-9460-ff4b5d371416",
   "metadata": {},
   "source": [
    "![](https://i0.wp.com/terracode.space/wp-content/uploads/2025/01/LOGO-e1736877970981.jpg?resize=300%2C127&ssl=1)"
   ]
  },
  {
   "cell_type": "code",
   "execution_count": null,
   "id": "d3aa15f1-9e4e-4c9c-961a-80506605967e",
   "metadata": {},
   "outputs": [],
   "source": []
  },
  {
   "cell_type": "code",
   "execution_count": null,
   "id": "0d0f4fec-137a-4d0a-a32e-75386ae1a2ad",
   "metadata": {},
   "outputs": [],
   "source": [
    "1.Application of python  for gis and RS studies\n",
    "2.Web GIS\n",
    "3.Web development \n",
    "4.Role of data science for gis analysis\n",
    "5.Geodata data science based  case studies\n",
    "6.Scope and demand of web gis\n",
    "7.Career as a gis Developer"
   ]
  },
  {
   "cell_type": "markdown",
   "id": "41d4ee65-7d59-47c1-810f-75ee71d9c194",
   "metadata": {},
   "source": [
    "![Python](https://www.python.org/static/community_logos/python-logo-master-v3-TM-flattened.png)\n",
    "\n",
    "*Python* is a programming language that can be used for many different tasks, including web development, data analysis, and software testing. It's a general-purpose language, which means it can be used to create a wide variety of programs. It is a versatile and easy-to-learn programming language widely used in GIS and RS due to its rich ecosystem of libraries.\n",
    "\n",
    "*Features*\n",
    "\n",
    "1. Easy to learn: Python is beginner-friendly and has easy-to-read syntax. \n",
    "2. Open-source: Python is free to download and anyone can contribute to its development. \n",
    "3. Versatile: Python can be used for many different tasks, including web development, data analysis, and software testing. \n",
    "4. Integrates well: Python integrates well with many different systems and platforms. \n",
    "\n",
    "*Uses*\n",
    "- Building websites and software\n",
    "- Automating tasks\n",
    "- Conducting data analysis\n",
    "- Software testing and prototyping\n",
    "- Scientific computing\n",
    "- Database access\n",
    "- Desktop GUIs\n",
    "- Network programming\n",
    "- Software and game development"
   ]
  },
  {
   "cell_type": "markdown",
   "id": "4248083d-1497-4705-bd61-81c9d0619fd0",
   "metadata": {},
   "source": [
    "## 1. Introduction to Python Basics\n",
    "### **Basic Syntax:**\n",
    "* Python uses indentation to define code blocks.\n",
    "* Comments are denoted by `#`.\n",
    "* Variables are assigned using `=`."
   ]
  },
  {
   "cell_type": "code",
   "execution_count": 13,
   "id": "45e77c55-fa79-4fe1-859b-1786b3ed71d7",
   "metadata": {},
   "outputs": [
    {
     "name": "stdout",
     "output_type": "stream",
     "text": [
      "Hello, GIS World!\n",
      "The sum of x and y is: 30\n"
     ]
    }
   ],
   "source": [
    "# Example: Basic Python syntax\n",
    "print(\"Hello, GIS World!\")\n",
    "x = 10\n",
    "y = 20\n",
    "z = x + y\n",
    "print(f\"The sum of x and y is: {z}\")"
   ]
  },
  {
   "cell_type": "code",
   "execution_count": null,
   "id": "9c4d0503-2427-409e-87fb-4c5e4240c364",
   "metadata": {},
   "outputs": [],
   "source": [
    "!pip install matplotlib\n",
    "!pip install pandas"
   ]
  },
  {
   "cell_type": "markdown",
   "id": "53f9688e-dc49-4e57-b7ed-efa6691230c8",
   "metadata": {},
   "source": [
    "## Some common keywords and their uses include:"
   ]
  },
  {
   "cell_type": "raw",
   "id": "b7e4b1e4-f4f1-4945-8b0b-945e659282ce",
   "metadata": {},
   "source": [
    "*True, False, None*: Boolean and null values.\n",
    "*and, or, not*: Logical operators.\n",
    "*if, elif, else*: Conditional statements.\n",
    "*for, while*: Loops.\n",
    "*break, continue*: Loop control.\n",
    "*def*: Function definition.\n",
    "*class*: Class definition.\n",
    "*return*: Return value from a function.\n",
    "*import*, from: Module import.\n",
    "*try*, except, finally: Exception handling.\n",
    "*as*: Alias for imports or context managers.\n",
    "*with*: Context manager.\n",
    "*lambda*: Anonymous function."
   ]
  },
  {
   "cell_type": "markdown",
   "id": "e2b2217a-1107-4421-a6f1-265c6b2d50bf",
   "metadata": {},
   "source": [
    "## 2. Python Data Types\n",
    "\n",
    "Understanding data types is crucial for effective data manipulation.\n",
    "    \n",
    "**Lists:** Ordered, mutable collections of items. \\\n",
    "**Tuples:** Ordered, immutable collections of items.\\\n",
    "**Dictionaries:** Unordered collections of key-value pairs."
   ]
  },
  {
   "cell_type": "code",
   "execution_count": 5,
   "id": "fcd496c5-e70f-49eb-83f3-f75a2b070968",
   "metadata": {},
   "outputs": [
    {
     "name": "stdout",
     "output_type": "stream",
     "text": [
      "[1, 2, 3, 'GIS', 'RS']\n"
     ]
    }
   ],
   "source": [
    "my_list = [1, 2, 3, \"GIS\", \"RS\"]\n",
    "print(my_list)"
   ]
  },
  {
   "cell_type": "code",
   "execution_count": 6,
   "id": "73eb8bdf-5a40-42d8-960e-cb84d6d3a1c2",
   "metadata": {},
   "outputs": [
    {
     "name": "stdout",
     "output_type": "stream",
     "text": [
      "(4, 5, 6, 'Data')\n"
     ]
    }
   ],
   "source": [
    "my_tuple = (4, 5, 6, \"Data\")\n",
    "print(my_tuple)"
   ]
  },
  {
   "cell_type": "code",
   "execution_count": 7,
   "id": "a66d0689-d93d-4e3d-b5e5-a1c147f73738",
   "metadata": {},
   "outputs": [
    {
     "name": "stdout",
     "output_type": "stream",
     "text": [
      "{'name': 'Location A', 'x': 10.5, 'y': 20.3}\n"
     ]
    }
   ],
   "source": [
    "my_dict = {\"name\": \"Location A\", \"x\": 10.5, \"y\": 20.3}\n",
    "print(my_dict)"
   ]
  },
  {
   "cell_type": "markdown",
   "id": "21376656-20d1-4a34-9e9c-4756f1514ce5",
   "metadata": {},
   "source": [
    "## 3. Control Flow\n",
    "\n",
    "Control flow statements allow you to control the execution of your code.\n",
    "\n",
    "**If-else:** Conditional execution. \\\n",
    "**Loops:** Repeated execution. \\\n",
    "**Functions:** Reusable blocks of code."
   ]
  },
  {
   "cell_type": "code",
   "execution_count": 9,
   "id": "4f9aa2cc-4cc3-452b-beb9-189729c79175",
   "metadata": {},
   "outputs": [
    {
     "name": "stdout",
     "output_type": "stream",
     "text": [
      "x is greater than 10\n"
     ]
    }
   ],
   "source": [
    "x = 15\n",
    "if x > 10:\n",
    "    print(\"x is greater than 10\")\n",
    "else:\n",
    "    print(\"x is not greater than 10\")\n"
   ]
  },
  {
   "cell_type": "code",
   "execution_count": 10,
   "id": "ac65cc68-b572-4e7e-be02-9b2535286108",
   "metadata": {},
   "outputs": [
    {
     "name": "stdout",
     "output_type": "stream",
     "text": [
      "Loop iteration: 0\n",
      "Loop iteration: 1\n",
      "Loop iteration: 2\n",
      "Loop iteration: 3\n",
      "Loop iteration: 4\n"
     ]
    }
   ],
   "source": [
    "for i in range(5):\n",
    "    print(f\"Loop iteration: {i}\")\n",
    "\n"
   ]
  },
  {
   "cell_type": "code",
   "execution_count": 11,
   "id": "5d811f44-0383-4380-887f-ba57af24b97e",
   "metadata": {},
   "outputs": [
    {
     "name": "stdout",
     "output_type": "stream",
     "text": [
      "The result of the function is: 12\n"
     ]
    }
   ],
   "source": [
    "def add_numbers(a, b):\n",
    "    return a + b\n",
    "\n",
    "result = add_numbers(5, 7)\n",
    "print(f\"The result of the function is: {result}\")"
   ]
  },
  {
   "cell_type": "code",
   "execution_count": 17,
   "id": "f1625e7a-3ab8-4d5e-8bf1-179710a9bde1",
   "metadata": {},
   "outputs": [
    {
     "name": "stdout",
     "output_type": "stream",
     "text": [
      "The result of the function is: 12\n"
     ]
    }
   ],
   "source": [
    "## Anonymous Function\n",
    "\n",
    "# lambda: Used to create anonymous (one-line) functions.\n",
    "\n",
    "# Example: Lambda\n",
    "add_numbers = lambda a, b: a + b\n",
    "result = add_numbers(5, 7)\n",
    "print(f\"The result of the function is: {result}\")"
   ]
  },
  {
   "cell_type": "markdown",
   "id": "da7b98e2-b58f-464c-bead-107b9142c0a4",
   "metadata": {},
   "source": [
    "## 4. Hands-on Exercises Related to Spatial Data Processing\n",
    "\n",
    "Let's apply basic Python concepts to spatial scenarios."
   ]
  },
  {
   "cell_type": "markdown",
   "id": "623527f2-c40d-4e25-9c5c-1791615b40c4",
   "metadata": {},
   "source": [
    "> Exercise: Create a list of coordinates and calculate the distance between two points."
   ]
  },
  {
   "cell_type": "code",
   "execution_count": 18,
   "id": "29bcf8a7-a58f-45b6-b28c-41b4bcf8a090",
   "metadata": {},
   "outputs": [
    {
     "name": "stdout",
     "output_type": "stream",
     "text": [
      "Distance between point1 and point2: 7.0710678118654755\n"
     ]
    }
   ],
   "source": [
    "import math\n",
    "\n",
    "coordinates = [(10, 20), (15, 25), (30, 40)]\n",
    "point1 = coordinates[0]\n",
    "point2 = coordinates[1]\n",
    "\n",
    "distance = math.sqrt((point2[0] - point1[0])**2 + (point2[1] - point1[1])**2)\n",
    "print(f\"Distance between point1 and point2: {distance}\")"
   ]
  },
  {
   "cell_type": "markdown",
   "id": "7a05695d-7ce6-4f3d-8ef1-d5d49b80826d",
   "metadata": {},
   "source": [
    "---\n",
    "## 5. Using Pandas for GIS Data Handling\n",
    "\n",
    "Pandas is a powerful library for data manipulation and analysis.\n",
    "\n",
    "---\n",
    "\n",
    "Install and import pandas if needed. \n"
   ]
  },
  {
   "cell_type": "code",
   "execution_count": 21,
   "id": "37b6fbb9-cfe5-48f2-b4ad-4a6381bebb73",
   "metadata": {},
   "outputs": [],
   "source": [
    "# !pip install pandas"
   ]
  },
  {
   "cell_type": "code",
   "execution_count": 22,
   "id": "e106734f-1112-48df-86eb-5dc9ac1ed1ea",
   "metadata": {},
   "outputs": [
    {
     "name": "stdout",
     "output_type": "stream",
     "text": [
      "       lat       lon       city\n",
      "0  34.0522 -118.2437      Delhi\n",
      "1  40.7128  -74.0060  Prayagraj\n",
      "2  37.7749 -122.4194     Boston\n"
     ]
    }
   ],
   "source": [
    "import pandas as pd\n",
    "\n",
    "# Example: Reading and writing CSV files\n",
    "data = {\"lat\": [34.0522, 40.7128, 37.7749], \"lon\": [-118.2437, -74.0060, -122.4194], \"city\": [\"Delhi\", \"Prayagraj\", \"Boston\"]}\n",
    "df = pd.DataFrame(data)\n",
    "df.to_csv(\"../Inpup_data/cities.csv\", index=False)\n",
    "df_read = pd.read_csv(\"../Inpup_data/cities.csv\")\n",
    "print(df_read.head())"
   ]
  },
  {
   "cell_type": "code",
   "execution_count": 25,
   "id": "78f932e5-e5f2-4ed2-b3e9-2f4a1f6f4f6d",
   "metadata": {},
   "outputs": [
    {
     "data": {
      "image/png": "[encoded data removed]",
      "text/plain": [
       "<Figure size 640x480 with 1 Axes>"
      ]
     },
     "metadata": {},
     "output_type": "display_data"
    }
   ],
   "source": [
    "# Example: Visualization of tabular GIS data using Matplotlib\n",
    "import matplotlib.pyplot as plt\n",
    "\n",
    "plt.scatter(df_read[\"lon\"], df_read[\"lat\"])\n",
    "plt.xlabel(\"Longitude\")\n",
    "plt.ylabel(\"Latitude\")\n",
    "plt.title(\"City Locations\")\n",
    "plt.show()"
   ]
  },
  {
   "cell_type": "code",
   "execution_count": 26,
   "id": "898d09ea-4c05-4770-8094-9052b252578e",
   "metadata": {},
   "outputs": [
    {
     "data": {
      "image/png": "[encoded data removed]",
      "text/plain": [
       "<Figure size 640x480 with 1 Axes>"
      ]
     },
     "metadata": {},
     "output_type": "display_data"
    }
   ],
   "source": [
    "plt.scatter(df_read[\"lon\"], df_read[\"lat\"])\n",
    "for i, txt in enumerate(df_read[\"city\"]):\n",
    "    plt.annotate(txt, (df_read[\"lon\"][i], df_read[\"lat\"][i]), fontsize=9, ha='right')\n",
    "plt.xlabel(\"Longitude\")\n",
    "plt.ylabel(\"Latitude\")\n",
    "plt.title(\"City Locations with Labels\")\n",
    "plt.show()\n"
   ]
  },
  {
   "cell_type": "code",
   "execution_count": null,
   "id": "4915b8ac-00b6-4eb1-89ac-c9a6a3f0b426",
   "metadata": {},
   "outputs": [],
   "source": []
  }
 ],
 "metadata": {
  "kernelspec": {
   "display_name": "Terracode_SIG_workshop",
   "language": "python",
   "name": "myenv"
  },
  "language_info": {
   "codemirror_mode": {
    "name": "ipython",
    "version": 3
   },
   "file_extension": ".py",
   "mimetype": "text/x-python",
   "name": "python",
   "nbconvert_exporter": "python",
   "pygments_lexer": "ipython3",
   "version": "3.13.2"
  }
 },
 "nbformat": 4,
 "nbformat_minor": 5
}
